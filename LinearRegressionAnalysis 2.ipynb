{
 "cells": [
  {
   "cell_type": "markdown",
   "id": "606787ea",
   "metadata": {},
   "source": [
    "# Price Prediction of Airline Ticket"
   ]
  },
  {
   "cell_type": "code",
   "execution_count": 2,
   "id": "31944196",
   "metadata": {},
   "outputs": [],
   "source": [
    "import numpy as np\n",
    "import pandas as pd\n",
    "import warnings\n",
    "warnings.filterwarnings(\"ignore\")\n",
    "import time, datetime\n",
    "import re\n",
    "import seaborn as sns\n",
    "import matplotlib.pyplot as plt\n",
    "import plotly.express as px\n",
    "from sklearn.preprocessing import OneHotEncoder, StandardScaler\n",
    "from sklearn.model_selection import train_test_split, RandomizedSearchCV\n",
    "from sklearn.linear_model import LinearRegression\n",
    "from sklearn.neighbors import KNeighborsRegressor\n",
    "from sklearn.tree import DecisionTreeRegressor\n",
    "from sklearn.ensemble import RandomForestRegressor\n",
    "from sklearn.ensemble import AdaBoostRegressor\n",
    "from sklearn.metrics import r2_score, mean_absolute_error, mean_squared_error,mean_absolute_percentage_error\n",
    "from IPython.display import display \n",
    "pd.set_option(\"display.max_columns\",None)\n",
    "import json,pickle"
   ]
  },
  {
   "cell_type": "markdown",
   "id": "184d7c99",
   "metadata": {},
   "source": [
    "### Reading Dataset"
   ]
  },
  {
   "cell_type": "code",
   "execution_count": 3,
   "id": "6acb0a6e",
   "metadata": {},
   "outputs": [
    {
     "data": {
      "text/html": [
       "<div>\n",
       "<style scoped>\n",
       "    .dataframe tbody tr th:only-of-type {\n",
       "        vertical-align: middle;\n",
       "    }\n",
       "\n",
       "    .dataframe tbody tr th {\n",
       "        vertical-align: top;\n",
       "    }\n",
       "\n",
       "    .dataframe thead th {\n",
       "        text-align: right;\n",
       "    }\n",
       "</style>\n",
       "<table border=\"1\" class=\"dataframe\">\n",
       "  <thead>\n",
       "    <tr style=\"text-align: right;\">\n",
       "      <th></th>\n",
       "      <th>date</th>\n",
       "      <th>airline</th>\n",
       "      <th>ch_code</th>\n",
       "      <th>num_code</th>\n",
       "      <th>dep_time</th>\n",
       "      <th>from</th>\n",
       "      <th>time_taken</th>\n",
       "      <th>stop</th>\n",
       "      <th>arr_time</th>\n",
       "      <th>to</th>\n",
       "      <th>price</th>\n",
       "    </tr>\n",
       "  </thead>\n",
       "  <tbody>\n",
       "    <tr>\n",
       "      <th>0</th>\n",
       "      <td>11-02-2022</td>\n",
       "      <td>Air India</td>\n",
       "      <td>AI</td>\n",
       "      <td>868</td>\n",
       "      <td>18:00</td>\n",
       "      <td>Delhi</td>\n",
       "      <td>02h 00m</td>\n",
       "      <td>non-stop</td>\n",
       "      <td>20:00</td>\n",
       "      <td>Mumbai</td>\n",
       "      <td>25,612</td>\n",
       "    </tr>\n",
       "    <tr>\n",
       "      <th>1</th>\n",
       "      <td>11-02-2022</td>\n",
       "      <td>Air India</td>\n",
       "      <td>AI</td>\n",
       "      <td>624</td>\n",
       "      <td>19:00</td>\n",
       "      <td>Delhi</td>\n",
       "      <td>02h 15m</td>\n",
       "      <td>non-stop</td>\n",
       "      <td>21:15</td>\n",
       "      <td>Mumbai</td>\n",
       "      <td>25,612</td>\n",
       "    </tr>\n",
       "    <tr>\n",
       "      <th>2</th>\n",
       "      <td>11-02-2022</td>\n",
       "      <td>Air India</td>\n",
       "      <td>AI</td>\n",
       "      <td>531</td>\n",
       "      <td>20:00</td>\n",
       "      <td>Delhi</td>\n",
       "      <td>24h 45m</td>\n",
       "      <td>1-stop\\n\\t\\t\\t\\t\\t\\t\\t\\t\\t\\t\\t\\t\\n\\t\\t\\t\\t\\t\\t...</td>\n",
       "      <td>20:45</td>\n",
       "      <td>Mumbai</td>\n",
       "      <td>42,220</td>\n",
       "    </tr>\n",
       "    <tr>\n",
       "      <th>3</th>\n",
       "      <td>11-02-2022</td>\n",
       "      <td>Air India</td>\n",
       "      <td>AI</td>\n",
       "      <td>839</td>\n",
       "      <td>21:25</td>\n",
       "      <td>Delhi</td>\n",
       "      <td>26h 30m</td>\n",
       "      <td>1-stop\\n\\t\\t\\t\\t\\t\\t\\t\\t\\t\\t\\t\\t\\n\\t\\t\\t\\t\\t\\t...</td>\n",
       "      <td>23:55</td>\n",
       "      <td>Mumbai</td>\n",
       "      <td>44,450</td>\n",
       "    </tr>\n",
       "    <tr>\n",
       "      <th>4</th>\n",
       "      <td>11-02-2022</td>\n",
       "      <td>Air India</td>\n",
       "      <td>AI</td>\n",
       "      <td>544</td>\n",
       "      <td>17:15</td>\n",
       "      <td>Delhi</td>\n",
       "      <td>06h 40m</td>\n",
       "      <td>1-stop\\n\\t\\t\\t\\t\\t\\t\\t\\t\\t\\t\\t\\t\\n\\t\\t\\t\\t\\t\\t...</td>\n",
       "      <td>23:55</td>\n",
       "      <td>Mumbai</td>\n",
       "      <td>46,690</td>\n",
       "    </tr>\n",
       "  </tbody>\n",
       "</table>\n",
       "</div>"
      ],
      "text/plain": [
       "         date    airline ch_code  num_code dep_time   from time_taken  \\\n",
       "0  11-02-2022  Air India      AI       868    18:00  Delhi    02h 00m   \n",
       "1  11-02-2022  Air India      AI       624    19:00  Delhi    02h 15m   \n",
       "2  11-02-2022  Air India      AI       531    20:00  Delhi    24h 45m   \n",
       "3  11-02-2022  Air India      AI       839    21:25  Delhi    26h 30m   \n",
       "4  11-02-2022  Air India      AI       544    17:15  Delhi    06h 40m   \n",
       "\n",
       "                                                stop arr_time      to   price  \n",
       "0                                          non-stop     20:00  Mumbai  25,612  \n",
       "1                                          non-stop     21:15  Mumbai  25,612  \n",
       "2  1-stop\\n\\t\\t\\t\\t\\t\\t\\t\\t\\t\\t\\t\\t\\n\\t\\t\\t\\t\\t\\t...    20:45  Mumbai  42,220  \n",
       "3  1-stop\\n\\t\\t\\t\\t\\t\\t\\t\\t\\t\\t\\t\\t\\n\\t\\t\\t\\t\\t\\t...    23:55  Mumbai  44,450  \n",
       "4  1-stop\\n\\t\\t\\t\\t\\t\\t\\t\\t\\t\\t\\t\\t\\n\\t\\t\\t\\t\\t\\t...    23:55  Mumbai  46,690  "
      ]
     },
     "execution_count": 3,
     "metadata": {},
     "output_type": "execute_result"
    }
   ],
   "source": [
    "business_df = pd.read_csv(\"business.csv\")\n",
    "business_df.head()"
   ]
  },
  {
   "cell_type": "code",
   "execution_count": 4,
   "id": "eec18397",
   "metadata": {},
   "outputs": [
    {
     "data": {
      "text/plain": [
       "(93487, 11)"
      ]
     },
     "execution_count": 4,
     "metadata": {},
     "output_type": "execute_result"
    }
   ],
   "source": [
    "business_df.shape"
   ]
  },
  {
   "cell_type": "code",
   "execution_count": 5,
   "id": "dc14cb0a",
   "metadata": {},
   "outputs": [
    {
     "data": {
      "text/html": [
       "<div>\n",
       "<style scoped>\n",
       "    .dataframe tbody tr th:only-of-type {\n",
       "        vertical-align: middle;\n",
       "    }\n",
       "\n",
       "    .dataframe tbody tr th {\n",
       "        vertical-align: top;\n",
       "    }\n",
       "\n",
       "    .dataframe thead th {\n",
       "        text-align: right;\n",
       "    }\n",
       "</style>\n",
       "<table border=\"1\" class=\"dataframe\">\n",
       "  <thead>\n",
       "    <tr style=\"text-align: right;\">\n",
       "      <th></th>\n",
       "      <th>date</th>\n",
       "      <th>airline</th>\n",
       "      <th>ch_code</th>\n",
       "      <th>num_code</th>\n",
       "      <th>dep_time</th>\n",
       "      <th>from</th>\n",
       "      <th>time_taken</th>\n",
       "      <th>stop</th>\n",
       "      <th>arr_time</th>\n",
       "      <th>to</th>\n",
       "      <th>price</th>\n",
       "    </tr>\n",
       "  </thead>\n",
       "  <tbody>\n",
       "    <tr>\n",
       "      <th>0</th>\n",
       "      <td>11-02-2022</td>\n",
       "      <td>SpiceJet</td>\n",
       "      <td>SG</td>\n",
       "      <td>8709</td>\n",
       "      <td>18:55</td>\n",
       "      <td>Delhi</td>\n",
       "      <td>02h 10m</td>\n",
       "      <td>non-stop</td>\n",
       "      <td>21:05</td>\n",
       "      <td>Mumbai</td>\n",
       "      <td>5,953</td>\n",
       "    </tr>\n",
       "    <tr>\n",
       "      <th>1</th>\n",
       "      <td>11-02-2022</td>\n",
       "      <td>SpiceJet</td>\n",
       "      <td>SG</td>\n",
       "      <td>8157</td>\n",
       "      <td>06:20</td>\n",
       "      <td>Delhi</td>\n",
       "      <td>02h 20m</td>\n",
       "      <td>non-stop</td>\n",
       "      <td>08:40</td>\n",
       "      <td>Mumbai</td>\n",
       "      <td>5,953</td>\n",
       "    </tr>\n",
       "    <tr>\n",
       "      <th>2</th>\n",
       "      <td>11-02-2022</td>\n",
       "      <td>AirAsia</td>\n",
       "      <td>I5</td>\n",
       "      <td>764</td>\n",
       "      <td>04:25</td>\n",
       "      <td>Delhi</td>\n",
       "      <td>02h 10m</td>\n",
       "      <td>non-stop</td>\n",
       "      <td>06:35</td>\n",
       "      <td>Mumbai</td>\n",
       "      <td>5,956</td>\n",
       "    </tr>\n",
       "    <tr>\n",
       "      <th>3</th>\n",
       "      <td>11-02-2022</td>\n",
       "      <td>Vistara</td>\n",
       "      <td>UK</td>\n",
       "      <td>995</td>\n",
       "      <td>10:20</td>\n",
       "      <td>Delhi</td>\n",
       "      <td>02h 15m</td>\n",
       "      <td>non-stop</td>\n",
       "      <td>12:35</td>\n",
       "      <td>Mumbai</td>\n",
       "      <td>5,955</td>\n",
       "    </tr>\n",
       "    <tr>\n",
       "      <th>4</th>\n",
       "      <td>11-02-2022</td>\n",
       "      <td>Vistara</td>\n",
       "      <td>UK</td>\n",
       "      <td>963</td>\n",
       "      <td>08:50</td>\n",
       "      <td>Delhi</td>\n",
       "      <td>02h 20m</td>\n",
       "      <td>non-stop</td>\n",
       "      <td>11:10</td>\n",
       "      <td>Mumbai</td>\n",
       "      <td>5,955</td>\n",
       "    </tr>\n",
       "  </tbody>\n",
       "</table>\n",
       "</div>"
      ],
      "text/plain": [
       "         date   airline ch_code  num_code dep_time   from time_taken  \\\n",
       "0  11-02-2022  SpiceJet      SG      8709    18:55  Delhi    02h 10m   \n",
       "1  11-02-2022  SpiceJet      SG      8157    06:20  Delhi    02h 20m   \n",
       "2  11-02-2022   AirAsia      I5       764    04:25  Delhi    02h 10m   \n",
       "3  11-02-2022   Vistara      UK       995    10:20  Delhi    02h 15m   \n",
       "4  11-02-2022   Vistara      UK       963    08:50  Delhi    02h 20m   \n",
       "\n",
       "        stop arr_time      to  price  \n",
       "0  non-stop     21:05  Mumbai  5,953  \n",
       "1  non-stop     08:40  Mumbai  5,953  \n",
       "2  non-stop     06:35  Mumbai  5,956  \n",
       "3  non-stop     12:35  Mumbai  5,955  \n",
       "4  non-stop     11:10  Mumbai  5,955  "
      ]
     },
     "execution_count": 5,
     "metadata": {},
     "output_type": "execute_result"
    }
   ],
   "source": [
    "economy_df = pd.read_csv(\"economy.csv\")\n",
    "economy_df.head()"
   ]
  },
  {
   "cell_type": "code",
   "execution_count": 6,
   "id": "b0137c33",
   "metadata": {},
   "outputs": [
    {
     "data": {
      "text/plain": [
       "(206774, 11)"
      ]
     },
     "execution_count": 6,
     "metadata": {},
     "output_type": "execute_result"
    }
   ],
   "source": [
    "economy_df.shape"
   ]
  },
  {
   "cell_type": "markdown",
   "id": "238c753b",
   "metadata": {},
   "source": [
    "### Merging Datasets"
   ]
  },
  {
   "cell_type": "code",
   "execution_count": 7,
   "id": "ea7a909f",
   "metadata": {},
   "outputs": [],
   "source": [
    "business_df['class'] = 'business'\n",
    "economy_df['class'] = 'economy'"
   ]
  },
  {
   "cell_type": "code",
   "execution_count": 8,
   "id": "d25c5d7c",
   "metadata": {},
   "outputs": [],
   "source": [
    "df = pd.concat([business_df,economy_df])"
   ]
  },
  {
   "cell_type": "code",
   "execution_count": 9,
   "id": "2bfc5893",
   "metadata": {},
   "outputs": [
    {
     "data": {
      "text/html": [
       "<div>\n",
       "<style scoped>\n",
       "    .dataframe tbody tr th:only-of-type {\n",
       "        vertical-align: middle;\n",
       "    }\n",
       "\n",
       "    .dataframe tbody tr th {\n",
       "        vertical-align: top;\n",
       "    }\n",
       "\n",
       "    .dataframe thead th {\n",
       "        text-align: right;\n",
       "    }\n",
       "</style>\n",
       "<table border=\"1\" class=\"dataframe\">\n",
       "  <thead>\n",
       "    <tr style=\"text-align: right;\">\n",
       "      <th></th>\n",
       "      <th>date</th>\n",
       "      <th>airline</th>\n",
       "      <th>ch_code</th>\n",
       "      <th>num_code</th>\n",
       "      <th>dep_time</th>\n",
       "      <th>from</th>\n",
       "      <th>time_taken</th>\n",
       "      <th>stop</th>\n",
       "      <th>arr_time</th>\n",
       "      <th>to</th>\n",
       "      <th>price</th>\n",
       "      <th>class</th>\n",
       "    </tr>\n",
       "  </thead>\n",
       "  <tbody>\n",
       "    <tr>\n",
       "      <th>0</th>\n",
       "      <td>11-02-2022</td>\n",
       "      <td>Air India</td>\n",
       "      <td>AI</td>\n",
       "      <td>868</td>\n",
       "      <td>18:00</td>\n",
       "      <td>Delhi</td>\n",
       "      <td>02h 00m</td>\n",
       "      <td>non-stop</td>\n",
       "      <td>20:00</td>\n",
       "      <td>Mumbai</td>\n",
       "      <td>25,612</td>\n",
       "      <td>business</td>\n",
       "    </tr>\n",
       "    <tr>\n",
       "      <th>1</th>\n",
       "      <td>11-02-2022</td>\n",
       "      <td>Air India</td>\n",
       "      <td>AI</td>\n",
       "      <td>624</td>\n",
       "      <td>19:00</td>\n",
       "      <td>Delhi</td>\n",
       "      <td>02h 15m</td>\n",
       "      <td>non-stop</td>\n",
       "      <td>21:15</td>\n",
       "      <td>Mumbai</td>\n",
       "      <td>25,612</td>\n",
       "      <td>business</td>\n",
       "    </tr>\n",
       "    <tr>\n",
       "      <th>2</th>\n",
       "      <td>11-02-2022</td>\n",
       "      <td>Air India</td>\n",
       "      <td>AI</td>\n",
       "      <td>531</td>\n",
       "      <td>20:00</td>\n",
       "      <td>Delhi</td>\n",
       "      <td>24h 45m</td>\n",
       "      <td>1-stop\\n\\t\\t\\t\\t\\t\\t\\t\\t\\t\\t\\t\\t\\n\\t\\t\\t\\t\\t\\t...</td>\n",
       "      <td>20:45</td>\n",
       "      <td>Mumbai</td>\n",
       "      <td>42,220</td>\n",
       "      <td>business</td>\n",
       "    </tr>\n",
       "    <tr>\n",
       "      <th>3</th>\n",
       "      <td>11-02-2022</td>\n",
       "      <td>Air India</td>\n",
       "      <td>AI</td>\n",
       "      <td>839</td>\n",
       "      <td>21:25</td>\n",
       "      <td>Delhi</td>\n",
       "      <td>26h 30m</td>\n",
       "      <td>1-stop\\n\\t\\t\\t\\t\\t\\t\\t\\t\\t\\t\\t\\t\\n\\t\\t\\t\\t\\t\\t...</td>\n",
       "      <td>23:55</td>\n",
       "      <td>Mumbai</td>\n",
       "      <td>44,450</td>\n",
       "      <td>business</td>\n",
       "    </tr>\n",
       "    <tr>\n",
       "      <th>4</th>\n",
       "      <td>11-02-2022</td>\n",
       "      <td>Air India</td>\n",
       "      <td>AI</td>\n",
       "      <td>544</td>\n",
       "      <td>17:15</td>\n",
       "      <td>Delhi</td>\n",
       "      <td>06h 40m</td>\n",
       "      <td>1-stop\\n\\t\\t\\t\\t\\t\\t\\t\\t\\t\\t\\t\\t\\n\\t\\t\\t\\t\\t\\t...</td>\n",
       "      <td>23:55</td>\n",
       "      <td>Mumbai</td>\n",
       "      <td>46,690</td>\n",
       "      <td>business</td>\n",
       "    </tr>\n",
       "  </tbody>\n",
       "</table>\n",
       "</div>"
      ],
      "text/plain": [
       "         date    airline ch_code  num_code dep_time   from time_taken  \\\n",
       "0  11-02-2022  Air India      AI       868    18:00  Delhi    02h 00m   \n",
       "1  11-02-2022  Air India      AI       624    19:00  Delhi    02h 15m   \n",
       "2  11-02-2022  Air India      AI       531    20:00  Delhi    24h 45m   \n",
       "3  11-02-2022  Air India      AI       839    21:25  Delhi    26h 30m   \n",
       "4  11-02-2022  Air India      AI       544    17:15  Delhi    06h 40m   \n",
       "\n",
       "                                                stop arr_time      to   price  \\\n",
       "0                                          non-stop     20:00  Mumbai  25,612   \n",
       "1                                          non-stop     21:15  Mumbai  25,612   \n",
       "2  1-stop\\n\\t\\t\\t\\t\\t\\t\\t\\t\\t\\t\\t\\t\\n\\t\\t\\t\\t\\t\\t...    20:45  Mumbai  42,220   \n",
       "3  1-stop\\n\\t\\t\\t\\t\\t\\t\\t\\t\\t\\t\\t\\t\\n\\t\\t\\t\\t\\t\\t...    23:55  Mumbai  44,450   \n",
       "4  1-stop\\n\\t\\t\\t\\t\\t\\t\\t\\t\\t\\t\\t\\t\\n\\t\\t\\t\\t\\t\\t...    23:55  Mumbai  46,690   \n",
       "\n",
       "      class  \n",
       "0  business  \n",
       "1  business  \n",
       "2  business  \n",
       "3  business  \n",
       "4  business  "
      ]
     },
     "execution_count": 9,
     "metadata": {},
     "output_type": "execute_result"
    }
   ],
   "source": [
    "df.head()"
   ]
  },
  {
   "cell_type": "code",
   "execution_count": 10,
   "id": "7e77f453",
   "metadata": {},
   "outputs": [
    {
     "data": {
      "text/plain": [
       "(300261, 12)"
      ]
     },
     "execution_count": 10,
     "metadata": {},
     "output_type": "execute_result"
    }
   ],
   "source": [
    "df.shape"
   ]
  },
  {
   "cell_type": "markdown",
   "id": "29b8bd7d",
   "metadata": {},
   "source": [
    "## Pre-Processing"
   ]
  },
  {
   "cell_type": "markdown",
   "id": "23fa8b99",
   "metadata": {},
   "source": [
    "**Correcting column name**"
   ]
  },
  {
   "cell_type": "code",
   "execution_count": 11,
   "id": "05bc6f27",
   "metadata": {},
   "outputs": [],
   "source": [
    "df.rename(columns={'dep_time': 'departure_time','from': 'source_city',\n",
    "       'time_taken': 'duration', 'stop': 'stops', 'arr_time': 'arrival_time', 'to': 'destination_city'},inplace=True)"
   ]
  },
  {
   "cell_type": "markdown",
   "id": "2a1aef0a",
   "metadata": {},
   "source": [
    "### Feature Engineering"
   ]
  },
  {
   "cell_type": "markdown",
   "id": "14b0174b",
   "metadata": {},
   "source": [
    "Adding flight column"
   ]
  },
  {
   "cell_type": "code",
   "execution_count": 12,
   "id": "405fb326",
   "metadata": {},
   "outputs": [],
   "source": [
    "df[\"flight\"] = df[\"ch_code\"] +\"-\"+ df[\"num_code\"].astype('str')"
   ]
  },
  {
   "cell_type": "code",
   "execution_count": 13,
   "id": "02b0304d",
   "metadata": {},
   "outputs": [],
   "source": [
    "del df['ch_code']\n",
    "del df['num_code']"
   ]
  },
  {
   "cell_type": "code",
   "execution_count": 14,
   "id": "10a45a9d",
   "metadata": {},
   "outputs": [
    {
     "data": {
      "text/html": [
       "<div>\n",
       "<style scoped>\n",
       "    .dataframe tbody tr th:only-of-type {\n",
       "        vertical-align: middle;\n",
       "    }\n",
       "\n",
       "    .dataframe tbody tr th {\n",
       "        vertical-align: top;\n",
       "    }\n",
       "\n",
       "    .dataframe thead th {\n",
       "        text-align: right;\n",
       "    }\n",
       "</style>\n",
       "<table border=\"1\" class=\"dataframe\">\n",
       "  <thead>\n",
       "    <tr style=\"text-align: right;\">\n",
       "      <th></th>\n",
       "      <th>date</th>\n",
       "      <th>airline</th>\n",
       "      <th>departure_time</th>\n",
       "      <th>source_city</th>\n",
       "      <th>duration</th>\n",
       "      <th>stops</th>\n",
       "      <th>arrival_time</th>\n",
       "      <th>destination_city</th>\n",
       "      <th>price</th>\n",
       "      <th>class</th>\n",
       "      <th>flight</th>\n",
       "    </tr>\n",
       "  </thead>\n",
       "  <tbody>\n",
       "    <tr>\n",
       "      <th>0</th>\n",
       "      <td>11-02-2022</td>\n",
       "      <td>Air India</td>\n",
       "      <td>18:00</td>\n",
       "      <td>Delhi</td>\n",
       "      <td>02h 00m</td>\n",
       "      <td>non-stop</td>\n",
       "      <td>20:00</td>\n",
       "      <td>Mumbai</td>\n",
       "      <td>25,612</td>\n",
       "      <td>business</td>\n",
       "      <td>AI-868</td>\n",
       "    </tr>\n",
       "    <tr>\n",
       "      <th>1</th>\n",
       "      <td>11-02-2022</td>\n",
       "      <td>Air India</td>\n",
       "      <td>19:00</td>\n",
       "      <td>Delhi</td>\n",
       "      <td>02h 15m</td>\n",
       "      <td>non-stop</td>\n",
       "      <td>21:15</td>\n",
       "      <td>Mumbai</td>\n",
       "      <td>25,612</td>\n",
       "      <td>business</td>\n",
       "      <td>AI-624</td>\n",
       "    </tr>\n",
       "    <tr>\n",
       "      <th>2</th>\n",
       "      <td>11-02-2022</td>\n",
       "      <td>Air India</td>\n",
       "      <td>20:00</td>\n",
       "      <td>Delhi</td>\n",
       "      <td>24h 45m</td>\n",
       "      <td>1-stop\\n\\t\\t\\t\\t\\t\\t\\t\\t\\t\\t\\t\\t\\n\\t\\t\\t\\t\\t\\t...</td>\n",
       "      <td>20:45</td>\n",
       "      <td>Mumbai</td>\n",
       "      <td>42,220</td>\n",
       "      <td>business</td>\n",
       "      <td>AI-531</td>\n",
       "    </tr>\n",
       "    <tr>\n",
       "      <th>3</th>\n",
       "      <td>11-02-2022</td>\n",
       "      <td>Air India</td>\n",
       "      <td>21:25</td>\n",
       "      <td>Delhi</td>\n",
       "      <td>26h 30m</td>\n",
       "      <td>1-stop\\n\\t\\t\\t\\t\\t\\t\\t\\t\\t\\t\\t\\t\\n\\t\\t\\t\\t\\t\\t...</td>\n",
       "      <td>23:55</td>\n",
       "      <td>Mumbai</td>\n",
       "      <td>44,450</td>\n",
       "      <td>business</td>\n",
       "      <td>AI-839</td>\n",
       "    </tr>\n",
       "    <tr>\n",
       "      <th>4</th>\n",
       "      <td>11-02-2022</td>\n",
       "      <td>Air India</td>\n",
       "      <td>17:15</td>\n",
       "      <td>Delhi</td>\n",
       "      <td>06h 40m</td>\n",
       "      <td>1-stop\\n\\t\\t\\t\\t\\t\\t\\t\\t\\t\\t\\t\\t\\n\\t\\t\\t\\t\\t\\t...</td>\n",
       "      <td>23:55</td>\n",
       "      <td>Mumbai</td>\n",
       "      <td>46,690</td>\n",
       "      <td>business</td>\n",
       "      <td>AI-544</td>\n",
       "    </tr>\n",
       "  </tbody>\n",
       "</table>\n",
       "</div>"
      ],
      "text/plain": [
       "         date    airline departure_time source_city duration  \\\n",
       "0  11-02-2022  Air India          18:00       Delhi  02h 00m   \n",
       "1  11-02-2022  Air India          19:00       Delhi  02h 15m   \n",
       "2  11-02-2022  Air India          20:00       Delhi  24h 45m   \n",
       "3  11-02-2022  Air India          21:25       Delhi  26h 30m   \n",
       "4  11-02-2022  Air India          17:15       Delhi  06h 40m   \n",
       "\n",
       "                                               stops arrival_time  \\\n",
       "0                                          non-stop         20:00   \n",
       "1                                          non-stop         21:15   \n",
       "2  1-stop\\n\\t\\t\\t\\t\\t\\t\\t\\t\\t\\t\\t\\t\\n\\t\\t\\t\\t\\t\\t...        20:45   \n",
       "3  1-stop\\n\\t\\t\\t\\t\\t\\t\\t\\t\\t\\t\\t\\t\\n\\t\\t\\t\\t\\t\\t...        23:55   \n",
       "4  1-stop\\n\\t\\t\\t\\t\\t\\t\\t\\t\\t\\t\\t\\t\\n\\t\\t\\t\\t\\t\\t...        23:55   \n",
       "\n",
       "  destination_city   price     class  flight  \n",
       "0           Mumbai  25,612  business  AI-868  \n",
       "1           Mumbai  25,612  business  AI-624  \n",
       "2           Mumbai  42,220  business  AI-531  \n",
       "3           Mumbai  44,450  business  AI-839  \n",
       "4           Mumbai  46,690  business  AI-544  "
      ]
     },
     "execution_count": 14,
     "metadata": {},
     "output_type": "execute_result"
    }
   ],
   "source": [
    "df.head()"
   ]
  },
  {
   "cell_type": "markdown",
   "id": "bce2221d",
   "metadata": {},
   "source": [
    "Adding days left column"
   ]
  },
  {
   "cell_type": "code",
   "execution_count": 15,
   "id": "8d196eaa",
   "metadata": {},
   "outputs": [],
   "source": [
    "df['date'] = pd.to_datetime(df['date'])\n",
    "df['days_left'] = np.where(df[\"date\"].dt.month > 2, df[\"date\"].dt.day +18, np.where(df[\"date\"].dt.month == 2, df[\"date\"].dt.day -10, df[\"date\"].dt.day))"
   ]
  },
  {
   "cell_type": "code",
   "execution_count": 16,
   "id": "80580028",
   "metadata": {},
   "outputs": [
    {
     "data": {
      "text/html": [
       "<div>\n",
       "<style scoped>\n",
       "    .dataframe tbody tr th:only-of-type {\n",
       "        vertical-align: middle;\n",
       "    }\n",
       "\n",
       "    .dataframe tbody tr th {\n",
       "        vertical-align: top;\n",
       "    }\n",
       "\n",
       "    .dataframe thead th {\n",
       "        text-align: right;\n",
       "    }\n",
       "</style>\n",
       "<table border=\"1\" class=\"dataframe\">\n",
       "  <thead>\n",
       "    <tr style=\"text-align: right;\">\n",
       "      <th></th>\n",
       "      <th>date</th>\n",
       "      <th>airline</th>\n",
       "      <th>departure_time</th>\n",
       "      <th>source_city</th>\n",
       "      <th>duration</th>\n",
       "      <th>stops</th>\n",
       "      <th>arrival_time</th>\n",
       "      <th>destination_city</th>\n",
       "      <th>price</th>\n",
       "      <th>class</th>\n",
       "      <th>flight</th>\n",
       "      <th>days_left</th>\n",
       "    </tr>\n",
       "  </thead>\n",
       "  <tbody>\n",
       "    <tr>\n",
       "      <th>0</th>\n",
       "      <td>2022-11-02</td>\n",
       "      <td>Air India</td>\n",
       "      <td>18:00</td>\n",
       "      <td>Delhi</td>\n",
       "      <td>02h 00m</td>\n",
       "      <td>non-stop</td>\n",
       "      <td>20:00</td>\n",
       "      <td>Mumbai</td>\n",
       "      <td>25,612</td>\n",
       "      <td>business</td>\n",
       "      <td>AI-868</td>\n",
       "      <td>20</td>\n",
       "    </tr>\n",
       "    <tr>\n",
       "      <th>1</th>\n",
       "      <td>2022-11-02</td>\n",
       "      <td>Air India</td>\n",
       "      <td>19:00</td>\n",
       "      <td>Delhi</td>\n",
       "      <td>02h 15m</td>\n",
       "      <td>non-stop</td>\n",
       "      <td>21:15</td>\n",
       "      <td>Mumbai</td>\n",
       "      <td>25,612</td>\n",
       "      <td>business</td>\n",
       "      <td>AI-624</td>\n",
       "      <td>20</td>\n",
       "    </tr>\n",
       "    <tr>\n",
       "      <th>2</th>\n",
       "      <td>2022-11-02</td>\n",
       "      <td>Air India</td>\n",
       "      <td>20:00</td>\n",
       "      <td>Delhi</td>\n",
       "      <td>24h 45m</td>\n",
       "      <td>1-stop\\n\\t\\t\\t\\t\\t\\t\\t\\t\\t\\t\\t\\t\\n\\t\\t\\t\\t\\t\\t...</td>\n",
       "      <td>20:45</td>\n",
       "      <td>Mumbai</td>\n",
       "      <td>42,220</td>\n",
       "      <td>business</td>\n",
       "      <td>AI-531</td>\n",
       "      <td>20</td>\n",
       "    </tr>\n",
       "    <tr>\n",
       "      <th>3</th>\n",
       "      <td>2022-11-02</td>\n",
       "      <td>Air India</td>\n",
       "      <td>21:25</td>\n",
       "      <td>Delhi</td>\n",
       "      <td>26h 30m</td>\n",
       "      <td>1-stop\\n\\t\\t\\t\\t\\t\\t\\t\\t\\t\\t\\t\\t\\n\\t\\t\\t\\t\\t\\t...</td>\n",
       "      <td>23:55</td>\n",
       "      <td>Mumbai</td>\n",
       "      <td>44,450</td>\n",
       "      <td>business</td>\n",
       "      <td>AI-839</td>\n",
       "      <td>20</td>\n",
       "    </tr>\n",
       "    <tr>\n",
       "      <th>4</th>\n",
       "      <td>2022-11-02</td>\n",
       "      <td>Air India</td>\n",
       "      <td>17:15</td>\n",
       "      <td>Delhi</td>\n",
       "      <td>06h 40m</td>\n",
       "      <td>1-stop\\n\\t\\t\\t\\t\\t\\t\\t\\t\\t\\t\\t\\t\\n\\t\\t\\t\\t\\t\\t...</td>\n",
       "      <td>23:55</td>\n",
       "      <td>Mumbai</td>\n",
       "      <td>46,690</td>\n",
       "      <td>business</td>\n",
       "      <td>AI-544</td>\n",
       "      <td>20</td>\n",
       "    </tr>\n",
       "  </tbody>\n",
       "</table>\n",
       "</div>"
      ],
      "text/plain": [
       "        date    airline departure_time source_city duration  \\\n",
       "0 2022-11-02  Air India          18:00       Delhi  02h 00m   \n",
       "1 2022-11-02  Air India          19:00       Delhi  02h 15m   \n",
       "2 2022-11-02  Air India          20:00       Delhi  24h 45m   \n",
       "3 2022-11-02  Air India          21:25       Delhi  26h 30m   \n",
       "4 2022-11-02  Air India          17:15       Delhi  06h 40m   \n",
       "\n",
       "                                               stops arrival_time  \\\n",
       "0                                          non-stop         20:00   \n",
       "1                                          non-stop         21:15   \n",
       "2  1-stop\\n\\t\\t\\t\\t\\t\\t\\t\\t\\t\\t\\t\\t\\n\\t\\t\\t\\t\\t\\t...        20:45   \n",
       "3  1-stop\\n\\t\\t\\t\\t\\t\\t\\t\\t\\t\\t\\t\\t\\n\\t\\t\\t\\t\\t\\t...        23:55   \n",
       "4  1-stop\\n\\t\\t\\t\\t\\t\\t\\t\\t\\t\\t\\t\\t\\n\\t\\t\\t\\t\\t\\t...        23:55   \n",
       "\n",
       "  destination_city   price     class  flight  days_left  \n",
       "0           Mumbai  25,612  business  AI-868         20  \n",
       "1           Mumbai  25,612  business  AI-624         20  \n",
       "2           Mumbai  42,220  business  AI-531         20  \n",
       "3           Mumbai  44,450  business  AI-839         20  \n",
       "4           Mumbai  46,690  business  AI-544         20  "
      ]
     },
     "execution_count": 16,
     "metadata": {},
     "output_type": "execute_result"
    }
   ],
   "source": [
    "df.head()"
   ]
  },
  {
   "cell_type": "markdown",
   "id": "865ef3ee",
   "metadata": {},
   "source": [
    "Correcting values of departure time"
   ]
  },
  {
   "cell_type": "code",
   "execution_count": 17,
   "id": "27c25b0f",
   "metadata": {},
   "outputs": [],
   "source": [
    "df['departure_time'] =   pd.cut(x = pd.to_datetime(df[\"departure_time\"]).dt.hour, bins = 6, \n",
    "                               labels = [\"Late Night\",\"Early Morning\",\"Morning\", \"Afternoon\", \"Evening\", \"Night\"])\n"
   ]
  },
  {
   "cell_type": "markdown",
   "id": "06c15775",
   "metadata": {},
   "source": [
    "Correcting values of arrival time"
   ]
  },
  {
   "cell_type": "code",
   "execution_count": 18,
   "id": "6462a0a2",
   "metadata": {},
   "outputs": [],
   "source": [
    "df[\"arrival_time\"] =  pd.cut(x = pd.to_datetime(df[\"arrival_time\"]).dt.hour, bins = 6, \n",
    "        labels = [\"Late Night\",\"Early Morning\",\"Morning\", \"Afternoon\", \"Evening\", \"Night\"])\n"
   ]
  },
  {
   "cell_type": "markdown",
   "id": "257ef3d2",
   "metadata": {},
   "source": [
    "Correcting values of duration "
   ]
  },
  {
   "cell_type": "code",
   "execution_count": 19,
   "id": "0fe47af0",
   "metadata": {},
   "outputs": [],
   "source": [
    "hour_min = df['duration'].apply(lambda x: re.sub(\"[^0-9]\",\" \",x))\n",
    "hm_df = hour_min.str.split(expand= True)\n",
    "hm_df.columns = ['h','m']\n",
    "hm_df = hm_df.astype('int')\n",
    "df['duration'] = np.around((hm_df[\"h\"] + (hm_df[\"m\"]/60)),2)"
   ]
  },
  {
   "cell_type": "markdown",
   "id": "7e7da65f",
   "metadata": {},
   "source": [
    "Adding month column for capture the seasonal patterns"
   ]
  },
  {
   "cell_type": "code",
   "execution_count": 20,
   "id": "89d7a854",
   "metadata": {},
   "outputs": [],
   "source": [
    "df['month'] = df['date'].dt.month"
   ]
  },
  {
   "cell_type": "code",
   "execution_count": 21,
   "id": "da9f5c41",
   "metadata": {},
   "outputs": [],
   "source": [
    "del df['flight']"
   ]
  },
  {
   "cell_type": "markdown",
   "id": "9db6aaa9",
   "metadata": {},
   "source": [
    "### Checking and correcting Data types"
   ]
  },
  {
   "cell_type": "code",
   "execution_count": 22,
   "id": "81235937",
   "metadata": {},
   "outputs": [
    {
     "data": {
      "text/plain": [
       "date                datetime64[ns]\n",
       "airline                     object\n",
       "departure_time            category\n",
       "source_city                 object\n",
       "duration                   float64\n",
       "stops                       object\n",
       "arrival_time              category\n",
       "destination_city            object\n",
       "price                       object\n",
       "class                       object\n",
       "days_left                    int64\n",
       "month                        int64\n",
       "dtype: object"
      ]
     },
     "execution_count": 22,
     "metadata": {},
     "output_type": "execute_result"
    }
   ],
   "source": [
    "df.dtypes"
   ]
  },
  {
   "cell_type": "markdown",
   "id": "77e9b590",
   "metadata": {},
   "source": [
    "correcting values and data type of stop variable"
   ]
  },
  {
   "cell_type": "code",
   "execution_count": 23,
   "id": "3fc285d6",
   "metadata": {},
   "outputs": [],
   "source": [
    "df[\"stops\"] = df[\"stops\"].apply(lambda r: re.sub(\"[^0-9]\",\"\",r)).replace('',0).astype('int')"
   ]
  },
  {
   "cell_type": "code",
   "execution_count": 24,
   "id": "32a74141",
   "metadata": {},
   "outputs": [],
   "source": [
    "df['price'] = df['price'].str.replace(',','').astype('int')"
   ]
  },
  {
   "cell_type": "code",
   "execution_count": 25,
   "id": "8a8ab89e",
   "metadata": {},
   "outputs": [
    {
     "data": {
      "text/html": [
       "<div>\n",
       "<style scoped>\n",
       "    .dataframe tbody tr th:only-of-type {\n",
       "        vertical-align: middle;\n",
       "    }\n",
       "\n",
       "    .dataframe tbody tr th {\n",
       "        vertical-align: top;\n",
       "    }\n",
       "\n",
       "    .dataframe thead th {\n",
       "        text-align: right;\n",
       "    }\n",
       "</style>\n",
       "<table border=\"1\" class=\"dataframe\">\n",
       "  <thead>\n",
       "    <tr style=\"text-align: right;\">\n",
       "      <th></th>\n",
       "      <th>date</th>\n",
       "      <th>airline</th>\n",
       "      <th>departure_time</th>\n",
       "      <th>source_city</th>\n",
       "      <th>duration</th>\n",
       "      <th>stops</th>\n",
       "      <th>arrival_time</th>\n",
       "      <th>destination_city</th>\n",
       "      <th>price</th>\n",
       "      <th>class</th>\n",
       "      <th>days_left</th>\n",
       "      <th>month</th>\n",
       "    </tr>\n",
       "  </thead>\n",
       "  <tbody>\n",
       "    <tr>\n",
       "      <th>0</th>\n",
       "      <td>2022-11-02</td>\n",
       "      <td>Air India</td>\n",
       "      <td>Evening</td>\n",
       "      <td>Delhi</td>\n",
       "      <td>2.00</td>\n",
       "      <td>0</td>\n",
       "      <td>Night</td>\n",
       "      <td>Mumbai</td>\n",
       "      <td>25612</td>\n",
       "      <td>business</td>\n",
       "      <td>20</td>\n",
       "      <td>11</td>\n",
       "    </tr>\n",
       "    <tr>\n",
       "      <th>1</th>\n",
       "      <td>2022-11-02</td>\n",
       "      <td>Air India</td>\n",
       "      <td>Evening</td>\n",
       "      <td>Delhi</td>\n",
       "      <td>2.25</td>\n",
       "      <td>0</td>\n",
       "      <td>Night</td>\n",
       "      <td>Mumbai</td>\n",
       "      <td>25612</td>\n",
       "      <td>business</td>\n",
       "      <td>20</td>\n",
       "      <td>11</td>\n",
       "    </tr>\n",
       "    <tr>\n",
       "      <th>2</th>\n",
       "      <td>2022-11-02</td>\n",
       "      <td>Air India</td>\n",
       "      <td>Night</td>\n",
       "      <td>Delhi</td>\n",
       "      <td>24.75</td>\n",
       "      <td>1</td>\n",
       "      <td>Night</td>\n",
       "      <td>Mumbai</td>\n",
       "      <td>42220</td>\n",
       "      <td>business</td>\n",
       "      <td>20</td>\n",
       "      <td>11</td>\n",
       "    </tr>\n",
       "    <tr>\n",
       "      <th>3</th>\n",
       "      <td>2022-11-02</td>\n",
       "      <td>Air India</td>\n",
       "      <td>Night</td>\n",
       "      <td>Delhi</td>\n",
       "      <td>26.50</td>\n",
       "      <td>1</td>\n",
       "      <td>Night</td>\n",
       "      <td>Mumbai</td>\n",
       "      <td>44450</td>\n",
       "      <td>business</td>\n",
       "      <td>20</td>\n",
       "      <td>11</td>\n",
       "    </tr>\n",
       "    <tr>\n",
       "      <th>4</th>\n",
       "      <td>2022-11-02</td>\n",
       "      <td>Air India</td>\n",
       "      <td>Evening</td>\n",
       "      <td>Delhi</td>\n",
       "      <td>6.67</td>\n",
       "      <td>1</td>\n",
       "      <td>Night</td>\n",
       "      <td>Mumbai</td>\n",
       "      <td>46690</td>\n",
       "      <td>business</td>\n",
       "      <td>20</td>\n",
       "      <td>11</td>\n",
       "    </tr>\n",
       "  </tbody>\n",
       "</table>\n",
       "</div>"
      ],
      "text/plain": [
       "        date    airline departure_time source_city  duration  stops  \\\n",
       "0 2022-11-02  Air India        Evening       Delhi      2.00      0   \n",
       "1 2022-11-02  Air India        Evening       Delhi      2.25      0   \n",
       "2 2022-11-02  Air India          Night       Delhi     24.75      1   \n",
       "3 2022-11-02  Air India          Night       Delhi     26.50      1   \n",
       "4 2022-11-02  Air India        Evening       Delhi      6.67      1   \n",
       "\n",
       "  arrival_time destination_city  price     class  days_left  month  \n",
       "0        Night           Mumbai  25612  business         20     11  \n",
       "1        Night           Mumbai  25612  business         20     11  \n",
       "2        Night           Mumbai  42220  business         20     11  \n",
       "3        Night           Mumbai  44450  business         20     11  \n",
       "4        Night           Mumbai  46690  business         20     11  "
      ]
     },
     "execution_count": 25,
     "metadata": {},
     "output_type": "execute_result"
    }
   ],
   "source": [
    "df.head()"
   ]
  },
  {
   "cell_type": "code",
   "execution_count": 26,
   "id": "384a0728",
   "metadata": {},
   "outputs": [],
   "source": [
    "del df['date']"
   ]
  },
  {
   "cell_type": "markdown",
   "id": "282f2f0d",
   "metadata": {},
   "source": [
    "### Exploratory Data Analysis"
   ]
  },
  {
   "cell_type": "code",
   "execution_count": 27,
   "id": "b674b149",
   "metadata": {},
   "outputs": [
    {
     "data": {
      "text/html": [
       "<div>\n",
       "<style scoped>\n",
       "    .dataframe tbody tr th:only-of-type {\n",
       "        vertical-align: middle;\n",
       "    }\n",
       "\n",
       "    .dataframe tbody tr th {\n",
       "        vertical-align: top;\n",
       "    }\n",
       "\n",
       "    .dataframe thead th {\n",
       "        text-align: right;\n",
       "    }\n",
       "</style>\n",
       "<table border=\"1\" class=\"dataframe\">\n",
       "  <thead>\n",
       "    <tr style=\"text-align: right;\">\n",
       "      <th></th>\n",
       "      <th>airline</th>\n",
       "      <th>departure_time</th>\n",
       "      <th>source_city</th>\n",
       "      <th>duration</th>\n",
       "      <th>stops</th>\n",
       "      <th>arrival_time</th>\n",
       "      <th>destination_city</th>\n",
       "      <th>price</th>\n",
       "      <th>class</th>\n",
       "      <th>days_left</th>\n",
       "      <th>month</th>\n",
       "    </tr>\n",
       "  </thead>\n",
       "  <tbody>\n",
       "    <tr>\n",
       "      <th>0</th>\n",
       "      <td>Air India</td>\n",
       "      <td>Evening</td>\n",
       "      <td>Delhi</td>\n",
       "      <td>2.00</td>\n",
       "      <td>0</td>\n",
       "      <td>Night</td>\n",
       "      <td>Mumbai</td>\n",
       "      <td>25612</td>\n",
       "      <td>business</td>\n",
       "      <td>20</td>\n",
       "      <td>11</td>\n",
       "    </tr>\n",
       "    <tr>\n",
       "      <th>1</th>\n",
       "      <td>Air India</td>\n",
       "      <td>Evening</td>\n",
       "      <td>Delhi</td>\n",
       "      <td>2.25</td>\n",
       "      <td>0</td>\n",
       "      <td>Night</td>\n",
       "      <td>Mumbai</td>\n",
       "      <td>25612</td>\n",
       "      <td>business</td>\n",
       "      <td>20</td>\n",
       "      <td>11</td>\n",
       "    </tr>\n",
       "    <tr>\n",
       "      <th>2</th>\n",
       "      <td>Air India</td>\n",
       "      <td>Night</td>\n",
       "      <td>Delhi</td>\n",
       "      <td>24.75</td>\n",
       "      <td>1</td>\n",
       "      <td>Night</td>\n",
       "      <td>Mumbai</td>\n",
       "      <td>42220</td>\n",
       "      <td>business</td>\n",
       "      <td>20</td>\n",
       "      <td>11</td>\n",
       "    </tr>\n",
       "    <tr>\n",
       "      <th>3</th>\n",
       "      <td>Air India</td>\n",
       "      <td>Night</td>\n",
       "      <td>Delhi</td>\n",
       "      <td>26.50</td>\n",
       "      <td>1</td>\n",
       "      <td>Night</td>\n",
       "      <td>Mumbai</td>\n",
       "      <td>44450</td>\n",
       "      <td>business</td>\n",
       "      <td>20</td>\n",
       "      <td>11</td>\n",
       "    </tr>\n",
       "    <tr>\n",
       "      <th>4</th>\n",
       "      <td>Air India</td>\n",
       "      <td>Evening</td>\n",
       "      <td>Delhi</td>\n",
       "      <td>6.67</td>\n",
       "      <td>1</td>\n",
       "      <td>Night</td>\n",
       "      <td>Mumbai</td>\n",
       "      <td>46690</td>\n",
       "      <td>business</td>\n",
       "      <td>20</td>\n",
       "      <td>11</td>\n",
       "    </tr>\n",
       "  </tbody>\n",
       "</table>\n",
       "</div>"
      ],
      "text/plain": [
       "     airline departure_time source_city  duration  stops arrival_time  \\\n",
       "0  Air India        Evening       Delhi      2.00      0        Night   \n",
       "1  Air India        Evening       Delhi      2.25      0        Night   \n",
       "2  Air India          Night       Delhi     24.75      1        Night   \n",
       "3  Air India          Night       Delhi     26.50      1        Night   \n",
       "4  Air India        Evening       Delhi      6.67      1        Night   \n",
       "\n",
       "  destination_city  price     class  days_left  month  \n",
       "0           Mumbai  25612  business         20     11  \n",
       "1           Mumbai  25612  business         20     11  \n",
       "2           Mumbai  42220  business         20     11  \n",
       "3           Mumbai  44450  business         20     11  \n",
       "4           Mumbai  46690  business         20     11  "
      ]
     },
     "execution_count": 27,
     "metadata": {},
     "output_type": "execute_result"
    }
   ],
   "source": [
    "df.head()"
   ]
  },
  {
   "cell_type": "code",
   "execution_count": 28,
   "id": "d952e3a1",
   "metadata": {},
   "outputs": [
    {
     "data": {
      "text/plain": [
       "(300261, 11)"
      ]
     },
     "execution_count": 28,
     "metadata": {},
     "output_type": "execute_result"
    }
   ],
   "source": [
    "df.shape"
   ]
  },
  {
   "cell_type": "code",
   "execution_count": 29,
   "id": "4c126ed5",
   "metadata": {},
   "outputs": [
    {
     "data": {
      "text/plain": [
       "airline             0\n",
       "departure_time      0\n",
       "source_city         0\n",
       "duration            0\n",
       "stops               0\n",
       "arrival_time        0\n",
       "destination_city    0\n",
       "price               0\n",
       "class               0\n",
       "days_left           0\n",
       "month               0\n",
       "dtype: int64"
      ]
     },
     "execution_count": 29,
     "metadata": {},
     "output_type": "execute_result"
    }
   ],
   "source": [
    "df.isnull().sum()"
   ]
  },
  {
   "cell_type": "markdown",
   "id": "0599fff9",
   "metadata": {},
   "source": [
    "there is no missing values"
   ]
  },
  {
   "cell_type": "code",
   "execution_count": 30,
   "id": "4299e269",
   "metadata": {},
   "outputs": [
    {
     "name": "stdout",
     "output_type": "stream",
     "text": [
      "Vistara      127859\n",
      "Air India     80894\n",
      "Indigo        43120\n",
      "GO FIRST      23177\n",
      "AirAsia       16098\n",
      "SpiceJet       9011\n",
      "StarAir          61\n",
      "Trujet           41\n",
      "Name: airline, dtype: int64 \n",
      "\n",
      "Morning          75250\n",
      "Evening          65417\n",
      "Early Morning    62042\n",
      "Night            49504\n",
      "Afternoon        46858\n",
      "Late Night        1190\n",
      "Name: departure_time, dtype: int64 \n",
      "\n",
      "Delhi        61345\n",
      "Mumbai       60903\n",
      "Bangalore    52106\n",
      "Kolkata      46347\n",
      "Hyderabad    40860\n",
      "Chennai      38700\n",
      "Name: source_city, dtype: int64 \n",
      "\n",
      "2.17     4242\n",
      "2.25     4036\n",
      "2.75     2879\n",
      "2.08     2755\n",
      "2.83     2324\n",
      "         ... \n",
      "40.75       1\n",
      "1.03        1\n",
      "37.17       1\n",
      "41.58       1\n",
      "41.50       1\n",
      "Name: duration, Length: 479, dtype: int64 \n",
      "\n",
      "1    250929\n",
      "0     36044\n",
      "2     13288\n",
      "Name: stops, dtype: int64 \n",
      "\n",
      "Night            93584\n",
      "Evening          77104\n",
      "Morning          63783\n",
      "Afternoon        37908\n",
      "Late Night       14001\n",
      "Early Morning    13881\n",
      "Name: arrival_time, dtype: int64 \n",
      "\n",
      "Mumbai       59109\n",
      "Delhi        57361\n",
      "Bangalore    51112\n",
      "Kolkata      49535\n",
      "Hyderabad    42776\n",
      "Chennai      40368\n",
      "Name: destination_city, dtype: int64 \n",
      "\n",
      "54608    1445\n",
      "2339     1442\n",
      "54684    1390\n",
      "60978    1383\n",
      "60508    1230\n",
      "         ... \n",
      "15239       1\n",
      "15359       1\n",
      "16595       1\n",
      "17250       1\n",
      "6541        1\n",
      "Name: price, Length: 12165, dtype: int64 \n",
      "\n",
      "economy     206774\n",
      "business     93487\n",
      "Name: class, dtype: int64 \n",
      "\n",
      " 21    64927\n",
      " 3     10791\n",
      " 18     6603\n",
      " 39     6594\n",
      " 32     6586\n",
      " 31     6536\n",
      " 33     6536\n",
      " 40     6535\n",
      " 41     6526\n",
      " 38     6513\n",
      " 42     6503\n",
      "-7      6502\n",
      " 36     6491\n",
      " 37     6480\n",
      " 43     6473\n",
      " 44     6440\n",
      " 17     6420\n",
      " 11     6418\n",
      " 34     6412\n",
      " 13     6404\n",
      " 12     6385\n",
      " 14     6353\n",
      " 15     6342\n",
      " 45     6314\n",
      " 35     6296\n",
      " 16     6279\n",
      " 46     6160\n",
      " 49     6157\n",
      " 48     6078\n",
      " 47     6072\n",
      " 20     5958\n",
      " 10     5823\n",
      " 8      5768\n",
      " 6      5740\n",
      " 7      5703\n",
      " 9      5669\n",
      " 5      5395\n",
      " 4      5079\n",
      "Name: days_left, dtype: int64 \n",
      "\n",
      "3     128185\n",
      "2     101133\n",
      "12     10536\n",
      "11      8325\n",
      "7       6633\n",
      "8       6577\n",
      "6       6543\n",
      "1       6541\n",
      "10      6527\n",
      "4       6495\n",
      "5       6405\n",
      "9       6361\n",
      "Name: month, dtype: int64 \n",
      "\n"
     ]
    },
    {
     "data": {
      "text/plain": [
       "airline             None\n",
       "departure_time      None\n",
       "source_city         None\n",
       "duration            None\n",
       "stops               None\n",
       "arrival_time        None\n",
       "destination_city    None\n",
       "price               None\n",
       "class               None\n",
       "days_left           None\n",
       "month               None\n",
       "dtype: object"
      ]
     },
     "execution_count": 30,
     "metadata": {},
     "output_type": "execute_result"
    }
   ],
   "source": [
    "df.apply(lambda x: print(x.value_counts(),'\\n'))"
   ]
  },
  {
   "cell_type": "markdown",
   "id": "d1d902d0",
   "metadata": {},
   "source": [
    "## Descriptive Analysis ##"
   ]
  },
  {
   "cell_type": "code",
   "execution_count": 31,
   "id": "c2b048ef",
   "metadata": {},
   "outputs": [
    {
     "data": {
      "text/html": [
       "<div>\n",
       "<style scoped>\n",
       "    .dataframe tbody tr th:only-of-type {\n",
       "        vertical-align: middle;\n",
       "    }\n",
       "\n",
       "    .dataframe tbody tr th {\n",
       "        vertical-align: top;\n",
       "    }\n",
       "\n",
       "    .dataframe thead th {\n",
       "        text-align: right;\n",
       "    }\n",
       "</style>\n",
       "<table border=\"1\" class=\"dataframe\">\n",
       "  <thead>\n",
       "    <tr style=\"text-align: right;\">\n",
       "      <th></th>\n",
       "      <th>duration</th>\n",
       "      <th>stops</th>\n",
       "      <th>price</th>\n",
       "      <th>days_left</th>\n",
       "      <th>month</th>\n",
       "    </tr>\n",
       "  </thead>\n",
       "  <tbody>\n",
       "    <tr>\n",
       "      <th>count</th>\n",
       "      <td>300261.000000</td>\n",
       "      <td>300261.000000</td>\n",
       "      <td>300261.000000</td>\n",
       "      <td>300261.000000</td>\n",
       "      <td>300261.000000</td>\n",
       "    </tr>\n",
       "    <tr>\n",
       "      <th>mean</th>\n",
       "      <td>12.217794</td>\n",
       "      <td>0.924213</td>\n",
       "      <td>20883.717666</td>\n",
       "      <td>24.462568</td>\n",
       "      <td>3.764052</td>\n",
       "    </tr>\n",
       "    <tr>\n",
       "      <th>std</th>\n",
       "      <td>7.192961</td>\n",
       "      <td>0.398188</td>\n",
       "      <td>22695.911266</td>\n",
       "      <td>14.399238</td>\n",
       "      <td>2.736576</td>\n",
       "    </tr>\n",
       "    <tr>\n",
       "      <th>min</th>\n",
       "      <td>0.830000</td>\n",
       "      <td>0.000000</td>\n",
       "      <td>1105.000000</td>\n",
       "      <td>-7.000000</td>\n",
       "      <td>1.000000</td>\n",
       "    </tr>\n",
       "    <tr>\n",
       "      <th>25%</th>\n",
       "      <td>6.750000</td>\n",
       "      <td>1.000000</td>\n",
       "      <td>4783.000000</td>\n",
       "      <td>13.000000</td>\n",
       "      <td>2.000000</td>\n",
       "    </tr>\n",
       "    <tr>\n",
       "      <th>50%</th>\n",
       "      <td>11.250000</td>\n",
       "      <td>1.000000</td>\n",
       "      <td>7425.000000</td>\n",
       "      <td>21.000000</td>\n",
       "      <td>3.000000</td>\n",
       "    </tr>\n",
       "    <tr>\n",
       "      <th>75%</th>\n",
       "      <td>16.170000</td>\n",
       "      <td>1.000000</td>\n",
       "      <td>42521.000000</td>\n",
       "      <td>38.000000</td>\n",
       "      <td>3.000000</td>\n",
       "    </tr>\n",
       "    <tr>\n",
       "      <th>max</th>\n",
       "      <td>49.830000</td>\n",
       "      <td>2.000000</td>\n",
       "      <td>123071.000000</td>\n",
       "      <td>49.000000</td>\n",
       "      <td>12.000000</td>\n",
       "    </tr>\n",
       "  </tbody>\n",
       "</table>\n",
       "</div>"
      ],
      "text/plain": [
       "            duration          stops          price      days_left  \\\n",
       "count  300261.000000  300261.000000  300261.000000  300261.000000   \n",
       "mean       12.217794       0.924213   20883.717666      24.462568   \n",
       "std         7.192961       0.398188   22695.911266      14.399238   \n",
       "min         0.830000       0.000000    1105.000000      -7.000000   \n",
       "25%         6.750000       1.000000    4783.000000      13.000000   \n",
       "50%        11.250000       1.000000    7425.000000      21.000000   \n",
       "75%        16.170000       1.000000   42521.000000      38.000000   \n",
       "max        49.830000       2.000000  123071.000000      49.000000   \n",
       "\n",
       "               month  \n",
       "count  300261.000000  \n",
       "mean        3.764052  \n",
       "std         2.736576  \n",
       "min         1.000000  \n",
       "25%         2.000000  \n",
       "50%         3.000000  \n",
       "75%         3.000000  \n",
       "max        12.000000  "
      ]
     },
     "execution_count": 31,
     "metadata": {},
     "output_type": "execute_result"
    }
   ],
   "source": [
    "df.describe()"
   ]
  },
  {
   "cell_type": "code",
   "execution_count": 32,
   "id": "ce004120",
   "metadata": {},
   "outputs": [
    {
     "data": {
      "text/html": [
       "<div>\n",
       "<style scoped>\n",
       "    .dataframe tbody tr th:only-of-type {\n",
       "        vertical-align: middle;\n",
       "    }\n",
       "\n",
       "    .dataframe tbody tr th {\n",
       "        vertical-align: top;\n",
       "    }\n",
       "\n",
       "    .dataframe thead th {\n",
       "        text-align: right;\n",
       "    }\n",
       "</style>\n",
       "<table border=\"1\" class=\"dataframe\">\n",
       "  <thead>\n",
       "    <tr style=\"text-align: right;\">\n",
       "      <th></th>\n",
       "      <th>airline</th>\n",
       "      <th>source_city</th>\n",
       "      <th>destination_city</th>\n",
       "      <th>class</th>\n",
       "    </tr>\n",
       "  </thead>\n",
       "  <tbody>\n",
       "    <tr>\n",
       "      <th>count</th>\n",
       "      <td>300261</td>\n",
       "      <td>300261</td>\n",
       "      <td>300261</td>\n",
       "      <td>300261</td>\n",
       "    </tr>\n",
       "    <tr>\n",
       "      <th>unique</th>\n",
       "      <td>8</td>\n",
       "      <td>6</td>\n",
       "      <td>6</td>\n",
       "      <td>2</td>\n",
       "    </tr>\n",
       "    <tr>\n",
       "      <th>top</th>\n",
       "      <td>Vistara</td>\n",
       "      <td>Delhi</td>\n",
       "      <td>Mumbai</td>\n",
       "      <td>economy</td>\n",
       "    </tr>\n",
       "    <tr>\n",
       "      <th>freq</th>\n",
       "      <td>127859</td>\n",
       "      <td>61345</td>\n",
       "      <td>59109</td>\n",
       "      <td>206774</td>\n",
       "    </tr>\n",
       "  </tbody>\n",
       "</table>\n",
       "</div>"
      ],
      "text/plain": [
       "        airline source_city destination_city    class\n",
       "count    300261      300261           300261   300261\n",
       "unique        8           6                6        2\n",
       "top     Vistara       Delhi           Mumbai  economy\n",
       "freq     127859       61345            59109   206774"
      ]
     },
     "execution_count": 32,
     "metadata": {},
     "output_type": "execute_result"
    }
   ],
   "source": [
    "df.describe(include='O')"
   ]
  },
  {
   "cell_type": "markdown",
   "id": "7bdb5d99",
   "metadata": {},
   "source": [
    "The above descriptive table of numerical variables shows the statistical summary of all variables. including total count, mean, standard deviation, minimum and maximum values, and first, second, and third quantiles values. by observing these values we can better understand the values of each column and the patterns followed by these values. \n",
    "\n",
    "the above descriptive table of categorical variable shows the statistical summary of all categorical variables. like total count, total unique values, the top and their respective frequencies"
   ]
  },
  {
   "cell_type": "markdown",
   "id": "2909f3d8",
   "metadata": {},
   "source": [
    "# Visualization"
   ]
  },
  {
   "cell_type": "markdown",
   "id": "ace4607b",
   "metadata": {},
   "source": [
    "### Uni Variant Analysis\n",
    "\n",
    "Here we will observe the values in more detail through visualization"
   ]
  },
  {
   "cell_type": "markdown",
   "id": "544ee885",
   "metadata": {},
   "source": [
    "Here we seperate the categorial and numerical variables."
   ]
  },
  {
   "cell_type": "code",
   "execution_count": 51,
   "id": "4e21d618",
   "metadata": {},
   "outputs": [],
   "source": [
    "sns.set(rc={'figure.figsize':(15.7,8.27)})"
   ]
  },
  {
   "cell_type": "code",
   "execution_count": 52,
   "id": "0f34b17a",
   "metadata": {},
   "outputs": [],
   "source": [
    "categorial = ['airline','departure_time','source_city','arrival_time','stops','destination_city','class','month']\n",
    "numerical = ['duration', 'price', 'days_left']"
   ]
  },
  {
   "cell_type": "markdown",
   "id": "f47ab718",
   "metadata": {},
   "source": [
    "**Categorical Plot**"
   ]
  },
  {
   "cell_type": "code",
   "execution_count": 53,
   "id": "583642b7",
   "metadata": {
    "scrolled": true
   },
   "outputs": [
    {
     "data": {
      "image/png": "[encoded data removed]",
      "text/plain": [
       "<Figure size 1080x3960 with 8 Axes>"
      ]
     },
     "metadata": {},
     "output_type": "display_data"
    }
   ],
   "source": [
    "a=10\n",
    "b=2\n",
    "c=1\n",
    "fig = plt.figure(figsize=(15,55))\n",
    "for i in categorial:\n",
    "    plt.subplot(a, b, c)\n",
    "    plt.title('{}'.format(i))\n",
    "    plt.xlabel(i)\n",
    "    sns.countplot(data = df, x=i)\n",
    "    c = c + 1"
   ]
  },
  {
   "cell_type": "markdown",
   "id": "a37844ef",
   "metadata": {},
   "source": [
    "The above plots are the count plots for each categorical variable. From the above plots we can observe that:\n",
    "- the mostly used airline is Vistara and second highest used airline is air india\n",
    "- most of the plane departure during the morning hours and in the evening hour and it is very rare that the a flight departure late night\n",
    "- most of the flight are starts from dehli and mumbai\n",
    "- the arrival time of most of the flights are in night and in evening\n",
    "- there is usually one stop is involves in most of the flights\n",
    "- the destination city is in most cases is mumbai and dehli\n",
    "- most of the peopl travel through economy\n",
    "- in the month of feburary and march most of the flights occurs\n",
    "\n",
    "From the pie chart we can see these values in percents"
   ]
  },
  {
   "cell_type": "markdown",
   "id": "6fcd656e",
   "metadata": {},
   "source": [
    "#### Pie Chart"
   ]
  },
  {
   "cell_type": "code",
   "execution_count": 36,
   "id": "365fc7f6",
   "metadata": {
    "scrolled": true
   },
   "outputs": [
    {
     "data": {
      "image/png": "[encoded data removed]",
      "text/plain": [
       "<Figure size 1800x2880 with 8 Axes>"
      ]
     },
     "metadata": {},
     "output_type": "display_data"
    }
   ],
   "source": [
    "a=8\n",
    "b=3\n",
    "c=1\n",
    "fig = plt.figure(figsize=(25,40))\n",
    "for i in df[categorial]:\n",
    "    plt.subplot(a, b, c)\n",
    "    plt.title('{}'.format(i))\n",
    "    plt.xlabel(i)\n",
    "    plt.pie(df[i].value_counts(),autopct='%1.1f%%',startangle=90,shadow=True,labels=df[i].value_counts().keys().values)\n",
    "    c = c + 1"
   ]
  },
  {
   "cell_type": "markdown",
   "id": "ad6c34ee",
   "metadata": {},
   "source": [
    "**Numerical Plot**"
   ]
  },
  {
   "cell_type": "code",
   "execution_count": 37,
   "id": "d94f7da1",
   "metadata": {
    "scrolled": true
   },
   "outputs": [
    {
     "data": {
      "image/png": "[encoded data removed]",
      "text/plain": [
       "<Figure size 1800x1440 with 3 Axes>"
      ]
     },
     "metadata": {
      "needs_background": "light"
     },
     "output_type": "display_data"
    }
   ],
   "source": [
    "a=5\n",
    "b=3\n",
    "c=1\n",
    "fig = plt.figure(figsize=(25,20))\n",
    "for i in numerical:\n",
    "    plt.subplot(a, b, c)\n",
    "    plt.title('{}, subplot: {}{}{}'.format(i, a, b, c))\n",
    "    plt.xlabel(i)\n",
    "    sns.distplot(df[i])\n",
    "    c = c + 1"
   ]
  },
  {
   "cell_type": "markdown",
   "id": "ce305074",
   "metadata": {},
   "source": [
    "The above plots are the distribution plots built on the numerical variables. these plots illustrate the distribution of the values of each column. each specific column subplot represent the distribution plot of each column. from the above plots we can see that:\n",
    "- from the duration plot we can see that most of the flights duration are below 15 hours and very few have 30 hours\n",
    "- most of the flights prices are below 25,000"
   ]
  },
  {
   "cell_type": "markdown",
   "id": "d35eb2d3",
   "metadata": {},
   "source": [
    "### Bi-Variant Visualization \n",
    "\n",
    "Let's visualize the each column in terms of Class"
   ]
  },
  {
   "cell_type": "code",
   "execution_count": 38,
   "id": "c8da258c",
   "metadata": {},
   "outputs": [
    {
     "data": {
      "image/png": "[encoded data removed]",
      "text/plain": [
       "<Figure size 1080x288 with 1 Axes>"
      ]
     },
     "metadata": {
      "needs_background": "light"
     },
     "output_type": "display_data"
    },
    {
     "data": {
      "image/png": "[encoded data removed]",
      "text/plain": [
       "<Figure size 1080x288 with 1 Axes>"
      ]
     },
     "metadata": {
      "needs_background": "light"
     },
     "output_type": "display_data"
    },
    {
     "data": {
      "image/png": "[encoded data removed]",
      "text/plain": [
       "<Figure size 1080x288 with 1 Axes>"
      ]
     },
     "metadata": {
      "needs_background": "light"
     },
     "output_type": "display_data"
    },
    {
     "data": {
      "image/png": "[encoded data removed]",
      "text/plain": [
       "<Figure size 1080x288 with 1 Axes>"
      ]
     },
     "metadata": {
      "needs_background": "light"
     },
     "output_type": "display_data"
    },
    {
     "data": {
      "image/png": "[encoded data removed]",
      "text/plain": [
       "<Figure size 1080x288 with 1 Axes>"
      ]
     },
     "metadata": {
      "needs_background": "light"
     },
     "output_type": "display_data"
    },
    {
     "data": {
      "image/png": "[encoded data removed]",
      "text/plain": [
       "<Figure size 1080x288 with 1 Axes>"
      ]
     },
     "metadata": {
      "needs_background": "light"
     },
     "output_type": "display_data"
    },
    {
     "data": {
      "image/png": "[encoded data removed]",
      "text/plain": [
       "<Figure size 1080x288 with 1 Axes>"
      ]
     },
     "metadata": {
      "needs_background": "light"
     },
     "output_type": "display_data"
    },
    {
     "data": {
      "image/png": "[encoded data removed]",
      "text/plain": [
       "<Figure size 1080x288 with 1 Axes>"
      ]
     },
     "metadata": {
      "needs_background": "light"
     },
     "output_type": "display_data"
    }
   ],
   "source": [
    "for i in categorial:\n",
    "    fig , ax=plt.subplots(figsize=(15,4))\n",
    "    sns.barplot(data = df, x = i ,y = 'price')\n",
    "    ax.set_ylabel('price')\n",
    "    ax.set_xlabel(i)"
   ]
  },
  {
   "cell_type": "markdown",
   "id": "22d13146",
   "metadata": {},
   "source": [
    "the above plots compare the all of the independent categorical variable with the target variable that is price. From these plot following patterns can be observes:\n",
    "- the airline vistara and air india have high prices compare to other airlines\n",
    "- the late night departure time of flights are least expensive and after that the afternoon flights. whereas the morning and night flights are most expensives\n",
    "- the flights from chennai are slightly more expensive compare to mumbai, bangalore and kolkata. whereas the dehli source flights are least expensive\n",
    "- the late night arrival flights are also least expensive and this variable have same pattern asthe departure time\n",
    "- flights with 1 stops are most expensice and flights with 0 stops are least expensive\n",
    "- the destination city have same pattern as source city\n",
    "- business class is more expensive then economy\n",
    "- flights in feburary and december are significantly more expensive compare to other months"
   ]
  },
  {
   "cell_type": "code",
   "execution_count": 54,
   "id": "a307eb6e",
   "metadata": {
    "scrolled": true
   },
   "outputs": [
    {
     "ename": "ValueError",
     "evalue": "cannot reindex on an axis with duplicate labels",
     "output_type": "error",
     "traceback": [
      "\u001b[1;31m---------------------------------------------------------------------------\u001b[0m",
      "\u001b[1;31mValueError\u001b[0m                                Traceback (most recent call last)",
      "Input \u001b[1;32mIn [54]\u001b[0m, in \u001b[0;36m<cell line: 1>\u001b[1;34m()\u001b[0m\n\u001b[0;32m      1\u001b[0m \u001b[38;5;28;01mfor\u001b[39;00m i \u001b[38;5;129;01min\u001b[39;00m [\u001b[38;5;124m'\u001b[39m\u001b[38;5;124mduration\u001b[39m\u001b[38;5;124m'\u001b[39m, \u001b[38;5;124m'\u001b[39m\u001b[38;5;124mdays_left\u001b[39m\u001b[38;5;124m'\u001b[39m]:\n\u001b[0;32m      2\u001b[0m     fig , ax\u001b[38;5;241m=\u001b[39mplt\u001b[38;5;241m.\u001b[39msubplots(figsize\u001b[38;5;241m=\u001b[39m(\u001b[38;5;241m15\u001b[39m,\u001b[38;5;241m4\u001b[39m))\n\u001b[1;32m----> 3\u001b[0m     \u001b[43msns\u001b[49m\u001b[38;5;241;43m.\u001b[39;49m\u001b[43mlineplot\u001b[49m\u001b[43m(\u001b[49m\u001b[43mdata\u001b[49m\u001b[38;5;241;43m=\u001b[39;49m\u001b[43mdf\u001b[49m\u001b[43m,\u001b[49m\u001b[43mx\u001b[49m\u001b[38;5;241;43m=\u001b[39;49m\u001b[43mi\u001b[49m\u001b[43m,\u001b[49m\u001b[43my\u001b[49m\u001b[38;5;241;43m=\u001b[39;49m\u001b[38;5;124;43m'\u001b[39;49m\u001b[38;5;124;43mprice\u001b[39;49m\u001b[38;5;124;43m'\u001b[39;49m\u001b[43m)\u001b[49m\n\u001b[0;32m      4\u001b[0m     ax\u001b[38;5;241m.\u001b[39mset_ylabel(\u001b[38;5;124m'\u001b[39m\u001b[38;5;124mprice\u001b[39m\u001b[38;5;124m'\u001b[39m)\n\u001b[0;32m      5\u001b[0m     ax\u001b[38;5;241m.\u001b[39mset_xlabel(i)\n",
      "File \u001b[1;32mC:\\ProgramData\\Anaconda3\\lib\\site-packages\\seaborn\\_decorators.py:46\u001b[0m, in \u001b[0;36m_deprecate_positional_args.<locals>.inner_f\u001b[1;34m(*args, **kwargs)\u001b[0m\n\u001b[0;32m     36\u001b[0m     warnings\u001b[38;5;241m.\u001b[39mwarn(\n\u001b[0;32m     37\u001b[0m         \u001b[38;5;124m\"\u001b[39m\u001b[38;5;124mPass the following variable\u001b[39m\u001b[38;5;132;01m{}\u001b[39;00m\u001b[38;5;124m as \u001b[39m\u001b[38;5;132;01m{}\u001b[39;00m\u001b[38;5;124mkeyword arg\u001b[39m\u001b[38;5;132;01m{}\u001b[39;00m\u001b[38;5;124m: \u001b[39m\u001b[38;5;132;01m{}\u001b[39;00m\u001b[38;5;124m. \u001b[39m\u001b[38;5;124m\"\u001b[39m\n\u001b[0;32m     38\u001b[0m         \u001b[38;5;124m\"\u001b[39m\u001b[38;5;124mFrom version 0.12, the only valid positional argument \u001b[39m\u001b[38;5;124m\"\u001b[39m\n\u001b[1;32m   (...)\u001b[0m\n\u001b[0;32m     43\u001b[0m         \u001b[38;5;167;01mFutureWarning\u001b[39;00m\n\u001b[0;32m     44\u001b[0m     )\n\u001b[0;32m     45\u001b[0m kwargs\u001b[38;5;241m.\u001b[39mupdate({k: arg \u001b[38;5;28;01mfor\u001b[39;00m k, arg \u001b[38;5;129;01min\u001b[39;00m \u001b[38;5;28mzip\u001b[39m(sig\u001b[38;5;241m.\u001b[39mparameters, args)})\n\u001b[1;32m---> 46\u001b[0m \u001b[38;5;28;01mreturn\u001b[39;00m f(\u001b[38;5;241m*\u001b[39m\u001b[38;5;241m*\u001b[39mkwargs)\n",
      "File \u001b[1;32mC:\\ProgramData\\Anaconda3\\lib\\site-packages\\seaborn\\relational.py:710\u001b[0m, in \u001b[0;36mlineplot\u001b[1;34m(x, y, hue, size, style, data, palette, hue_order, hue_norm, sizes, size_order, size_norm, dashes, markers, style_order, units, estimator, ci, n_boot, seed, sort, err_style, err_kws, legend, ax, **kwargs)\u001b[0m\n\u001b[0;32m    706\u001b[0m     \u001b[38;5;28;01mreturn\u001b[39;00m ax\n\u001b[0;32m    708\u001b[0m p\u001b[38;5;241m.\u001b[39m_attach(ax)\n\u001b[1;32m--> 710\u001b[0m \u001b[43mp\u001b[49m\u001b[38;5;241;43m.\u001b[39;49m\u001b[43mplot\u001b[49m\u001b[43m(\u001b[49m\u001b[43max\u001b[49m\u001b[43m,\u001b[49m\u001b[43m \u001b[49m\u001b[43mkwargs\u001b[49m\u001b[43m)\u001b[49m\n\u001b[0;32m    711\u001b[0m \u001b[38;5;28;01mreturn\u001b[39;00m ax\n",
      "File \u001b[1;32mC:\\ProgramData\\Anaconda3\\lib\\site-packages\\seaborn\\relational.py:471\u001b[0m, in \u001b[0;36m_LinePlotter.plot\u001b[1;34m(self, ax, kws)\u001b[0m\n\u001b[0;32m    469\u001b[0m \u001b[38;5;66;03m# Loop over the semantic subsets and add to the plot\u001b[39;00m\n\u001b[0;32m    470\u001b[0m grouping_vars \u001b[38;5;241m=\u001b[39m \u001b[38;5;124m\"\u001b[39m\u001b[38;5;124mhue\u001b[39m\u001b[38;5;124m\"\u001b[39m, \u001b[38;5;124m\"\u001b[39m\u001b[38;5;124msize\u001b[39m\u001b[38;5;124m\"\u001b[39m, \u001b[38;5;124m\"\u001b[39m\u001b[38;5;124mstyle\u001b[39m\u001b[38;5;124m\"\u001b[39m\n\u001b[1;32m--> 471\u001b[0m \u001b[38;5;28;01mfor\u001b[39;00m sub_vars, sub_data \u001b[38;5;129;01min\u001b[39;00m \u001b[38;5;28mself\u001b[39m\u001b[38;5;241m.\u001b[39miter_data(grouping_vars, from_comp_data\u001b[38;5;241m=\u001b[39m\u001b[38;5;28;01mTrue\u001b[39;00m):\n\u001b[0;32m    473\u001b[0m     \u001b[38;5;28;01mif\u001b[39;00m \u001b[38;5;28mself\u001b[39m\u001b[38;5;241m.\u001b[39msort:\n\u001b[0;32m    474\u001b[0m         sort_vars \u001b[38;5;241m=\u001b[39m [\u001b[38;5;124m\"\u001b[39m\u001b[38;5;124munits\u001b[39m\u001b[38;5;124m\"\u001b[39m, \u001b[38;5;124m\"\u001b[39m\u001b[38;5;124mx\u001b[39m\u001b[38;5;124m\"\u001b[39m, \u001b[38;5;124m\"\u001b[39m\u001b[38;5;124my\u001b[39m\u001b[38;5;124m\"\u001b[39m]\n",
      "File \u001b[1;32mC:\\ProgramData\\Anaconda3\\lib\\site-packages\\seaborn\\_core.py:983\u001b[0m, in \u001b[0;36mVectorPlotter.iter_data\u001b[1;34m(self, grouping_vars, reverse, from_comp_data)\u001b[0m\n\u001b[0;32m    978\u001b[0m grouping_vars \u001b[38;5;241m=\u001b[39m [\n\u001b[0;32m    979\u001b[0m     var \u001b[38;5;28;01mfor\u001b[39;00m var \u001b[38;5;129;01min\u001b[39;00m grouping_vars \u001b[38;5;28;01mif\u001b[39;00m var \u001b[38;5;129;01min\u001b[39;00m \u001b[38;5;28mself\u001b[39m\u001b[38;5;241m.\u001b[39mvariables\n\u001b[0;32m    980\u001b[0m ]\n\u001b[0;32m    982\u001b[0m \u001b[38;5;28;01mif\u001b[39;00m from_comp_data:\n\u001b[1;32m--> 983\u001b[0m     data \u001b[38;5;241m=\u001b[39m \u001b[38;5;28;43mself\u001b[39;49m\u001b[38;5;241;43m.\u001b[39;49m\u001b[43mcomp_data\u001b[49m\n\u001b[0;32m    984\u001b[0m \u001b[38;5;28;01melse\u001b[39;00m:\n\u001b[0;32m    985\u001b[0m     data \u001b[38;5;241m=\u001b[39m \u001b[38;5;28mself\u001b[39m\u001b[38;5;241m.\u001b[39mplot_data\n",
      "File \u001b[1;32mC:\\ProgramData\\Anaconda3\\lib\\site-packages\\seaborn\\_core.py:1057\u001b[0m, in \u001b[0;36mVectorPlotter.comp_data\u001b[1;34m(self)\u001b[0m\n\u001b[0;32m   1055\u001b[0m     orig \u001b[38;5;241m=\u001b[39m \u001b[38;5;28mself\u001b[39m\u001b[38;5;241m.\u001b[39mplot_data[var]\u001b[38;5;241m.\u001b[39mdropna()\n\u001b[0;32m   1056\u001b[0m comp_col \u001b[38;5;241m=\u001b[39m pd\u001b[38;5;241m.\u001b[39mSeries(index\u001b[38;5;241m=\u001b[39morig\u001b[38;5;241m.\u001b[39mindex, dtype\u001b[38;5;241m=\u001b[39m\u001b[38;5;28mfloat\u001b[39m, name\u001b[38;5;241m=\u001b[39mvar)\n\u001b[1;32m-> 1057\u001b[0m comp_col\u001b[38;5;241m.\u001b[39mloc[orig\u001b[38;5;241m.\u001b[39mindex] \u001b[38;5;241m=\u001b[39m pd\u001b[38;5;241m.\u001b[39mto_numeric(axis\u001b[38;5;241m.\u001b[39mconvert_units(orig))\n\u001b[0;32m   1059\u001b[0m \u001b[38;5;28;01mif\u001b[39;00m axis\u001b[38;5;241m.\u001b[39mget_scale() \u001b[38;5;241m==\u001b[39m \u001b[38;5;124m\"\u001b[39m\u001b[38;5;124mlog\u001b[39m\u001b[38;5;124m\"\u001b[39m:\n\u001b[0;32m   1060\u001b[0m     comp_col \u001b[38;5;241m=\u001b[39m np\u001b[38;5;241m.\u001b[39mlog10(comp_col)\n",
      "File \u001b[1;32mC:\\ProgramData\\Anaconda3\\lib\\site-packages\\pandas\\core\\indexing.py:716\u001b[0m, in \u001b[0;36m_LocationIndexer.__setitem__\u001b[1;34m(self, key, value)\u001b[0m\n\u001b[0;32m    713\u001b[0m \u001b[38;5;28mself\u001b[39m\u001b[38;5;241m.\u001b[39m_has_valid_setitem_indexer(key)\n\u001b[0;32m    715\u001b[0m iloc \u001b[38;5;241m=\u001b[39m \u001b[38;5;28mself\u001b[39m \u001b[38;5;28;01mif\u001b[39;00m \u001b[38;5;28mself\u001b[39m\u001b[38;5;241m.\u001b[39mname \u001b[38;5;241m==\u001b[39m \u001b[38;5;124m\"\u001b[39m\u001b[38;5;124miloc\u001b[39m\u001b[38;5;124m\"\u001b[39m \u001b[38;5;28;01melse\u001b[39;00m \u001b[38;5;28mself\u001b[39m\u001b[38;5;241m.\u001b[39mobj\u001b[38;5;241m.\u001b[39miloc\n\u001b[1;32m--> 716\u001b[0m \u001b[43miloc\u001b[49m\u001b[38;5;241;43m.\u001b[39;49m\u001b[43m_setitem_with_indexer\u001b[49m\u001b[43m(\u001b[49m\u001b[43mindexer\u001b[49m\u001b[43m,\u001b[49m\u001b[43m \u001b[49m\u001b[43mvalue\u001b[49m\u001b[43m,\u001b[49m\u001b[43m \u001b[49m\u001b[38;5;28;43mself\u001b[39;49m\u001b[38;5;241;43m.\u001b[39;49m\u001b[43mname\u001b[49m\u001b[43m)\u001b[49m\n",
      "File \u001b[1;32mC:\\ProgramData\\Anaconda3\\lib\\site-packages\\pandas\\core\\indexing.py:1690\u001b[0m, in \u001b[0;36m_iLocIndexer._setitem_with_indexer\u001b[1;34m(self, indexer, value, name)\u001b[0m\n\u001b[0;32m   1688\u001b[0m     \u001b[38;5;28mself\u001b[39m\u001b[38;5;241m.\u001b[39m_setitem_with_indexer_split_path(indexer, value, name)\n\u001b[0;32m   1689\u001b[0m \u001b[38;5;28;01melse\u001b[39;00m:\n\u001b[1;32m-> 1690\u001b[0m     \u001b[38;5;28;43mself\u001b[39;49m\u001b[38;5;241;43m.\u001b[39;49m\u001b[43m_setitem_single_block\u001b[49m\u001b[43m(\u001b[49m\u001b[43mindexer\u001b[49m\u001b[43m,\u001b[49m\u001b[43m \u001b[49m\u001b[43mvalue\u001b[49m\u001b[43m,\u001b[49m\u001b[43m \u001b[49m\u001b[43mname\u001b[49m\u001b[43m)\u001b[49m\n",
      "File \u001b[1;32mC:\\ProgramData\\Anaconda3\\lib\\site-packages\\pandas\\core\\indexing.py:1929\u001b[0m, in \u001b[0;36m_iLocIndexer._setitem_single_block\u001b[1;34m(self, indexer, value, name)\u001b[0m\n\u001b[0;32m   1923\u001b[0m     indexer \u001b[38;5;241m=\u001b[39m maybe_convert_ix(\u001b[38;5;241m*\u001b[39mindexer)  \u001b[38;5;66;03m# e.g. test_setitem_frame_align\u001b[39;00m\n\u001b[0;32m   1925\u001b[0m \u001b[38;5;28;01mif\u001b[39;00m (\u001b[38;5;28misinstance\u001b[39m(value, ABCSeries) \u001b[38;5;129;01mand\u001b[39;00m name \u001b[38;5;241m!=\u001b[39m \u001b[38;5;124m\"\u001b[39m\u001b[38;5;124miloc\u001b[39m\u001b[38;5;124m\"\u001b[39m) \u001b[38;5;129;01mor\u001b[39;00m \u001b[38;5;28misinstance\u001b[39m(value, \u001b[38;5;28mdict\u001b[39m):\n\u001b[0;32m   1926\u001b[0m     \u001b[38;5;66;03m# TODO(EA): ExtensionBlock.setitem this causes issues with\u001b[39;00m\n\u001b[0;32m   1927\u001b[0m     \u001b[38;5;66;03m# setting for extensionarrays that store dicts. Need to decide\u001b[39;00m\n\u001b[0;32m   1928\u001b[0m     \u001b[38;5;66;03m# if it's worth supporting that.\u001b[39;00m\n\u001b[1;32m-> 1929\u001b[0m     value \u001b[38;5;241m=\u001b[39m \u001b[38;5;28;43mself\u001b[39;49m\u001b[38;5;241;43m.\u001b[39;49m\u001b[43m_align_series\u001b[49m\u001b[43m(\u001b[49m\u001b[43mindexer\u001b[49m\u001b[43m,\u001b[49m\u001b[43m \u001b[49m\u001b[43mSeries\u001b[49m\u001b[43m(\u001b[49m\u001b[43mvalue\u001b[49m\u001b[43m)\u001b[49m\u001b[43m)\u001b[49m\n\u001b[0;32m   1931\u001b[0m \u001b[38;5;28;01melif\u001b[39;00m \u001b[38;5;28misinstance\u001b[39m(value, ABCDataFrame) \u001b[38;5;129;01mand\u001b[39;00m name \u001b[38;5;241m!=\u001b[39m \u001b[38;5;124m\"\u001b[39m\u001b[38;5;124miloc\u001b[39m\u001b[38;5;124m\"\u001b[39m:\n\u001b[0;32m   1932\u001b[0m     value \u001b[38;5;241m=\u001b[39m \u001b[38;5;28mself\u001b[39m\u001b[38;5;241m.\u001b[39m_align_frame(indexer, value)\n",
      "File \u001b[1;32mC:\\ProgramData\\Anaconda3\\lib\\site-packages\\pandas\\core\\indexing.py:2091\u001b[0m, in \u001b[0;36m_iLocIndexer._align_series\u001b[1;34m(self, indexer, ser, multiindex_indexer)\u001b[0m\n\u001b[0;32m   2089\u001b[0m \u001b[38;5;28;01mif\u001b[39;00m obj\u001b[38;5;241m.\u001b[39mndim \u001b[38;5;241m==\u001b[39m \u001b[38;5;241m2\u001b[39m \u001b[38;5;129;01mand\u001b[39;00m is_empty_indexer(indexer[\u001b[38;5;241m0\u001b[39m], ser\u001b[38;5;241m.\u001b[39m_values):\n\u001b[0;32m   2090\u001b[0m     \u001b[38;5;28;01mreturn\u001b[39;00m ser\u001b[38;5;241m.\u001b[39m_values\u001b[38;5;241m.\u001b[39mcopy()\n\u001b[1;32m-> 2091\u001b[0m ser \u001b[38;5;241m=\u001b[39m \u001b[43mser\u001b[49m\u001b[38;5;241;43m.\u001b[39;49m\u001b[43mreindex\u001b[49m\u001b[43m(\u001b[49m\u001b[43mobj\u001b[49m\u001b[38;5;241;43m.\u001b[39;49m\u001b[43maxes\u001b[49m\u001b[43m[\u001b[49m\u001b[38;5;241;43m0\u001b[39;49m\u001b[43m]\u001b[49m\u001b[43m[\u001b[49m\u001b[43mindexer\u001b[49m\u001b[43m[\u001b[49m\u001b[38;5;241;43m0\u001b[39;49m\u001b[43m]\u001b[49m\u001b[43m]\u001b[49m\u001b[43m,\u001b[49m\u001b[43m \u001b[49m\u001b[43mcopy\u001b[49m\u001b[38;5;241;43m=\u001b[39;49m\u001b[38;5;28;43;01mTrue\u001b[39;49;00m\u001b[43m)\u001b[49m\u001b[38;5;241m.\u001b[39m_values\n\u001b[0;32m   2093\u001b[0m \u001b[38;5;66;03m# single indexer\u001b[39;00m\n\u001b[0;32m   2094\u001b[0m \u001b[38;5;28;01mif\u001b[39;00m \u001b[38;5;28mlen\u001b[39m(indexer) \u001b[38;5;241m>\u001b[39m \u001b[38;5;241m1\u001b[39m \u001b[38;5;129;01mand\u001b[39;00m \u001b[38;5;129;01mnot\u001b[39;00m multiindex_indexer:\n",
      "File \u001b[1;32mC:\\ProgramData\\Anaconda3\\lib\\site-packages\\pandas\\core\\series.py:4672\u001b[0m, in \u001b[0;36mSeries.reindex\u001b[1;34m(self, *args, **kwargs)\u001b[0m\n\u001b[0;32m   4668\u001b[0m         \u001b[38;5;28;01mraise\u001b[39;00m \u001b[38;5;167;01mTypeError\u001b[39;00m(\n\u001b[0;32m   4669\u001b[0m             \u001b[38;5;124m\"\u001b[39m\u001b[38;5;124m'\u001b[39m\u001b[38;5;124mindex\u001b[39m\u001b[38;5;124m'\u001b[39m\u001b[38;5;124m passed as both positional and keyword argument\u001b[39m\u001b[38;5;124m\"\u001b[39m\n\u001b[0;32m   4670\u001b[0m         )\n\u001b[0;32m   4671\u001b[0m     kwargs\u001b[38;5;241m.\u001b[39mupdate({\u001b[38;5;124m\"\u001b[39m\u001b[38;5;124mindex\u001b[39m\u001b[38;5;124m\"\u001b[39m: index})\n\u001b[1;32m-> 4672\u001b[0m \u001b[38;5;28;01mreturn\u001b[39;00m \u001b[38;5;28msuper\u001b[39m()\u001b[38;5;241m.\u001b[39mreindex(\u001b[38;5;241m*\u001b[39m\u001b[38;5;241m*\u001b[39mkwargs)\n",
      "File \u001b[1;32mC:\\ProgramData\\Anaconda3\\lib\\site-packages\\pandas\\core\\generic.py:4966\u001b[0m, in \u001b[0;36mNDFrame.reindex\u001b[1;34m(self, *args, **kwargs)\u001b[0m\n\u001b[0;32m   4963\u001b[0m     \u001b[38;5;28;01mreturn\u001b[39;00m \u001b[38;5;28mself\u001b[39m\u001b[38;5;241m.\u001b[39m_reindex_multi(axes, copy, fill_value)\n\u001b[0;32m   4965\u001b[0m \u001b[38;5;66;03m# perform the reindex on the axes\u001b[39;00m\n\u001b[1;32m-> 4966\u001b[0m \u001b[38;5;28;01mreturn\u001b[39;00m \u001b[38;5;28;43mself\u001b[39;49m\u001b[38;5;241;43m.\u001b[39;49m\u001b[43m_reindex_axes\u001b[49m\u001b[43m(\u001b[49m\n\u001b[0;32m   4967\u001b[0m \u001b[43m    \u001b[49m\u001b[43maxes\u001b[49m\u001b[43m,\u001b[49m\u001b[43m \u001b[49m\u001b[43mlevel\u001b[49m\u001b[43m,\u001b[49m\u001b[43m \u001b[49m\u001b[43mlimit\u001b[49m\u001b[43m,\u001b[49m\u001b[43m \u001b[49m\u001b[43mtolerance\u001b[49m\u001b[43m,\u001b[49m\u001b[43m \u001b[49m\u001b[43mmethod\u001b[49m\u001b[43m,\u001b[49m\u001b[43m \u001b[49m\u001b[43mfill_value\u001b[49m\u001b[43m,\u001b[49m\u001b[43m \u001b[49m\u001b[43mcopy\u001b[49m\n\u001b[0;32m   4968\u001b[0m \u001b[43m\u001b[49m\u001b[43m)\u001b[49m\u001b[38;5;241m.\u001b[39m__finalize__(\u001b[38;5;28mself\u001b[39m, method\u001b[38;5;241m=\u001b[39m\u001b[38;5;124m\"\u001b[39m\u001b[38;5;124mreindex\u001b[39m\u001b[38;5;124m\"\u001b[39m)\n",
      "File \u001b[1;32mC:\\ProgramData\\Anaconda3\\lib\\site-packages\\pandas\\core\\generic.py:4986\u001b[0m, in \u001b[0;36mNDFrame._reindex_axes\u001b[1;34m(self, axes, level, limit, tolerance, method, fill_value, copy)\u001b[0m\n\u001b[0;32m   4981\u001b[0m new_index, indexer \u001b[38;5;241m=\u001b[39m ax\u001b[38;5;241m.\u001b[39mreindex(\n\u001b[0;32m   4982\u001b[0m     labels, level\u001b[38;5;241m=\u001b[39mlevel, limit\u001b[38;5;241m=\u001b[39mlimit, tolerance\u001b[38;5;241m=\u001b[39mtolerance, method\u001b[38;5;241m=\u001b[39mmethod\n\u001b[0;32m   4983\u001b[0m )\n\u001b[0;32m   4985\u001b[0m axis \u001b[38;5;241m=\u001b[39m \u001b[38;5;28mself\u001b[39m\u001b[38;5;241m.\u001b[39m_get_axis_number(a)\n\u001b[1;32m-> 4986\u001b[0m obj \u001b[38;5;241m=\u001b[39m \u001b[43mobj\u001b[49m\u001b[38;5;241;43m.\u001b[39;49m\u001b[43m_reindex_with_indexers\u001b[49m\u001b[43m(\u001b[49m\n\u001b[0;32m   4987\u001b[0m \u001b[43m    \u001b[49m\u001b[43m{\u001b[49m\u001b[43maxis\u001b[49m\u001b[43m:\u001b[49m\u001b[43m \u001b[49m\u001b[43m[\u001b[49m\u001b[43mnew_index\u001b[49m\u001b[43m,\u001b[49m\u001b[43m \u001b[49m\u001b[43mindexer\u001b[49m\u001b[43m]\u001b[49m\u001b[43m}\u001b[49m\u001b[43m,\u001b[49m\n\u001b[0;32m   4988\u001b[0m \u001b[43m    \u001b[49m\u001b[43mfill_value\u001b[49m\u001b[38;5;241;43m=\u001b[39;49m\u001b[43mfill_value\u001b[49m\u001b[43m,\u001b[49m\n\u001b[0;32m   4989\u001b[0m \u001b[43m    \u001b[49m\u001b[43mcopy\u001b[49m\u001b[38;5;241;43m=\u001b[39;49m\u001b[43mcopy\u001b[49m\u001b[43m,\u001b[49m\n\u001b[0;32m   4990\u001b[0m \u001b[43m    \u001b[49m\u001b[43mallow_dups\u001b[49m\u001b[38;5;241;43m=\u001b[39;49m\u001b[38;5;28;43;01mFalse\u001b[39;49;00m\u001b[43m,\u001b[49m\n\u001b[0;32m   4991\u001b[0m \u001b[43m\u001b[49m\u001b[43m)\u001b[49m\n\u001b[0;32m   4992\u001b[0m \u001b[38;5;66;03m# If we've made a copy once, no need to make another one\u001b[39;00m\n\u001b[0;32m   4993\u001b[0m copy \u001b[38;5;241m=\u001b[39m \u001b[38;5;28;01mFalse\u001b[39;00m\n",
      "File \u001b[1;32mC:\\ProgramData\\Anaconda3\\lib\\site-packages\\pandas\\core\\generic.py:5032\u001b[0m, in \u001b[0;36mNDFrame._reindex_with_indexers\u001b[1;34m(self, reindexers, fill_value, copy, allow_dups)\u001b[0m\n\u001b[0;32m   5029\u001b[0m     indexer \u001b[38;5;241m=\u001b[39m ensure_platform_int(indexer)\n\u001b[0;32m   5031\u001b[0m \u001b[38;5;66;03m# TODO: speed up on homogeneous DataFrame objects (see _reindex_multi)\u001b[39;00m\n\u001b[1;32m-> 5032\u001b[0m new_data \u001b[38;5;241m=\u001b[39m \u001b[43mnew_data\u001b[49m\u001b[38;5;241;43m.\u001b[39;49m\u001b[43mreindex_indexer\u001b[49m\u001b[43m(\u001b[49m\n\u001b[0;32m   5033\u001b[0m \u001b[43m    \u001b[49m\u001b[43mindex\u001b[49m\u001b[43m,\u001b[49m\n\u001b[0;32m   5034\u001b[0m \u001b[43m    \u001b[49m\u001b[43mindexer\u001b[49m\u001b[43m,\u001b[49m\n\u001b[0;32m   5035\u001b[0m \u001b[43m    \u001b[49m\u001b[43maxis\u001b[49m\u001b[38;5;241;43m=\u001b[39;49m\u001b[43mbaxis\u001b[49m\u001b[43m,\u001b[49m\n\u001b[0;32m   5036\u001b[0m \u001b[43m    \u001b[49m\u001b[43mfill_value\u001b[49m\u001b[38;5;241;43m=\u001b[39;49m\u001b[43mfill_value\u001b[49m\u001b[43m,\u001b[49m\n\u001b[0;32m   5037\u001b[0m \u001b[43m    \u001b[49m\u001b[43mallow_dups\u001b[49m\u001b[38;5;241;43m=\u001b[39;49m\u001b[43mallow_dups\u001b[49m\u001b[43m,\u001b[49m\n\u001b[0;32m   5038\u001b[0m \u001b[43m    \u001b[49m\u001b[43mcopy\u001b[49m\u001b[38;5;241;43m=\u001b[39;49m\u001b[43mcopy\u001b[49m\u001b[43m,\u001b[49m\n\u001b[0;32m   5039\u001b[0m \u001b[43m\u001b[49m\u001b[43m)\u001b[49m\n\u001b[0;32m   5040\u001b[0m \u001b[38;5;66;03m# If we've made a copy once, no need to make another one\u001b[39;00m\n\u001b[0;32m   5041\u001b[0m copy \u001b[38;5;241m=\u001b[39m \u001b[38;5;28;01mFalse\u001b[39;00m\n",
      "File \u001b[1;32mC:\\ProgramData\\Anaconda3\\lib\\site-packages\\pandas\\core\\internals\\managers.py:679\u001b[0m, in \u001b[0;36mBaseBlockManager.reindex_indexer\u001b[1;34m(self, new_axis, indexer, axis, fill_value, allow_dups, copy, consolidate, only_slice, use_na_proxy)\u001b[0m\n\u001b[0;32m    677\u001b[0m \u001b[38;5;66;03m# some axes don't allow reindexing with dups\u001b[39;00m\n\u001b[0;32m    678\u001b[0m \u001b[38;5;28;01mif\u001b[39;00m \u001b[38;5;129;01mnot\u001b[39;00m allow_dups:\n\u001b[1;32m--> 679\u001b[0m     \u001b[38;5;28;43mself\u001b[39;49m\u001b[38;5;241;43m.\u001b[39;49m\u001b[43maxes\u001b[49m\u001b[43m[\u001b[49m\u001b[43maxis\u001b[49m\u001b[43m]\u001b[49m\u001b[38;5;241;43m.\u001b[39;49m\u001b[43m_validate_can_reindex\u001b[49m\u001b[43m(\u001b[49m\u001b[43mindexer\u001b[49m\u001b[43m)\u001b[49m\n\u001b[0;32m    681\u001b[0m \u001b[38;5;28;01mif\u001b[39;00m axis \u001b[38;5;241m>\u001b[39m\u001b[38;5;241m=\u001b[39m \u001b[38;5;28mself\u001b[39m\u001b[38;5;241m.\u001b[39mndim:\n\u001b[0;32m    682\u001b[0m     \u001b[38;5;28;01mraise\u001b[39;00m \u001b[38;5;167;01mIndexError\u001b[39;00m(\u001b[38;5;124m\"\u001b[39m\u001b[38;5;124mRequested axis not found in manager\u001b[39m\u001b[38;5;124m\"\u001b[39m)\n",
      "File \u001b[1;32mC:\\ProgramData\\Anaconda3\\lib\\site-packages\\pandas\\core\\indexes\\base.py:4107\u001b[0m, in \u001b[0;36mIndex._validate_can_reindex\u001b[1;34m(self, indexer)\u001b[0m\n\u001b[0;32m   4105\u001b[0m \u001b[38;5;66;03m# trying to reindex on an axis with duplicates\u001b[39;00m\n\u001b[0;32m   4106\u001b[0m \u001b[38;5;28;01mif\u001b[39;00m \u001b[38;5;129;01mnot\u001b[39;00m \u001b[38;5;28mself\u001b[39m\u001b[38;5;241m.\u001b[39m_index_as_unique \u001b[38;5;129;01mand\u001b[39;00m \u001b[38;5;28mlen\u001b[39m(indexer):\n\u001b[1;32m-> 4107\u001b[0m     \u001b[38;5;28;01mraise\u001b[39;00m \u001b[38;5;167;01mValueError\u001b[39;00m(\u001b[38;5;124m\"\u001b[39m\u001b[38;5;124mcannot reindex on an axis with duplicate labels\u001b[39m\u001b[38;5;124m\"\u001b[39m)\n",
      "\u001b[1;31mValueError\u001b[0m: cannot reindex on an axis with duplicate labels"
     ]
    },
    {
     "data": {
      "image/png": "[encoded data removed]",
      "text/plain": [
       "<Figure size 1080x288 with 1 Axes>"
      ]
     },
     "metadata": {},
     "output_type": "display_data"
    }
   ],
   "source": [
    "for i in ['duration', 'days_left']:\n",
    "    fig , ax=plt.subplots(figsize=(15,4))\n",
    "    sns.lineplot(data=df,x=i,y='price')\n",
    "    ax.set_ylabel('price')\n",
    "    ax.set_xlabel(i)"
   ]
  },
  {
   "cell_type": "markdown",
   "id": "bbde40b3",
   "metadata": {},
   "source": [
    "From the above plots we will see how the numerical variables varies with the prices\n",
    "- from the duration plot we can see that as the duration of the flight increases the prices also increases\n",
    "- from the days_left column we can see that the less the number of days left in the flights the more high the price gets."
   ]
  },
  {
   "cell_type": "markdown",
   "id": "39ada7a8",
   "metadata": {},
   "source": [
    "## Features Encoding"
   ]
  },
  {
   "cell_type": "markdown",
   "id": "9df6fee9",
   "metadata": {},
   "source": [
    "**Manual Encoding**"
   ]
  },
  {
   "cell_type": "code",
   "execution_count": 55,
   "id": "c7935549",
   "metadata": {},
   "outputs": [],
   "source": [
    "df[\"departure_time\"].replace({'Late Night':0,'Early Morning':1,'Morning':2,\n",
    "                               'Afternoon':3,'Evening':4,'Night':5},inplace=True)\n",
    "df[\"arrival_time\"].replace({'Late Night':0,'Early Morning':1,'Morning':2,\n",
    "                             'Afternoon':3,'Evening':4,'Night':5},inplace=True)\n",
    "df[\"class\"].replace({\"economy\":0,\"business\":1},inplace=True)"
   ]
  },
  {
   "cell_type": "markdown",
   "id": "3af5ca28",
   "metadata": {},
   "source": [
    "**One Hot Encoding**"
   ]
  },
  {
   "cell_type": "code",
   "execution_count": 56,
   "id": "e82d12b8",
   "metadata": {},
   "outputs": [
    {
     "data": {
      "text/html": [
       "<div>\n",
       "<style scoped>\n",
       "    .dataframe tbody tr th:only-of-type {\n",
       "        vertical-align: middle;\n",
       "    }\n",
       "\n",
       "    .dataframe tbody tr th {\n",
       "        vertical-align: top;\n",
       "    }\n",
       "\n",
       "    .dataframe thead th {\n",
       "        text-align: right;\n",
       "    }\n",
       "</style>\n",
       "<table border=\"1\" class=\"dataframe\">\n",
       "  <thead>\n",
       "    <tr style=\"text-align: right;\">\n",
       "      <th></th>\n",
       "      <th>departure_time</th>\n",
       "      <th>duration</th>\n",
       "      <th>stops</th>\n",
       "      <th>arrival_time</th>\n",
       "      <th>price</th>\n",
       "      <th>class</th>\n",
       "      <th>days_left</th>\n",
       "      <th>month</th>\n",
       "      <th>Air India</th>\n",
       "      <th>Vistara</th>\n",
       "      <th>SpiceJet</th>\n",
       "      <th>AirAsia</th>\n",
       "      <th>GO FIRST</th>\n",
       "      <th>Indigo</th>\n",
       "      <th>Trujet</th>\n",
       "      <th>StarAir</th>\n",
       "      <th>destination_city_Bangalore</th>\n",
       "      <th>destination_city_Chennai</th>\n",
       "      <th>destination_city_Delhi</th>\n",
       "      <th>destination_city_Hyderabad</th>\n",
       "      <th>destination_city_Kolkata</th>\n",
       "      <th>destination_city_Mumbai</th>\n",
       "      <th>source_city_Bangalore</th>\n",
       "      <th>source_city_Chennai</th>\n",
       "      <th>source_city_Delhi</th>\n",
       "      <th>source_city_Hyderabad</th>\n",
       "      <th>source_city_Kolkata</th>\n",
       "      <th>source_city_Mumbai</th>\n",
       "    </tr>\n",
       "  </thead>\n",
       "  <tbody>\n",
       "    <tr>\n",
       "      <th>0</th>\n",
       "      <td>4</td>\n",
       "      <td>2.00</td>\n",
       "      <td>0</td>\n",
       "      <td>5</td>\n",
       "      <td>25612</td>\n",
       "      <td>1</td>\n",
       "      <td>20</td>\n",
       "      <td>11</td>\n",
       "      <td>1.0</td>\n",
       "      <td>0.0</td>\n",
       "      <td>0.0</td>\n",
       "      <td>0.0</td>\n",
       "      <td>0.0</td>\n",
       "      <td>0.0</td>\n",
       "      <td>0.0</td>\n",
       "      <td>0.0</td>\n",
       "      <td>0</td>\n",
       "      <td>0</td>\n",
       "      <td>0</td>\n",
       "      <td>0</td>\n",
       "      <td>0</td>\n",
       "      <td>1</td>\n",
       "      <td>0</td>\n",
       "      <td>0</td>\n",
       "      <td>1</td>\n",
       "      <td>0</td>\n",
       "      <td>0</td>\n",
       "      <td>0</td>\n",
       "    </tr>\n",
       "    <tr>\n",
       "      <th>1</th>\n",
       "      <td>4</td>\n",
       "      <td>2.25</td>\n",
       "      <td>0</td>\n",
       "      <td>5</td>\n",
       "      <td>25612</td>\n",
       "      <td>1</td>\n",
       "      <td>20</td>\n",
       "      <td>11</td>\n",
       "      <td>1.0</td>\n",
       "      <td>0.0</td>\n",
       "      <td>0.0</td>\n",
       "      <td>0.0</td>\n",
       "      <td>0.0</td>\n",
       "      <td>0.0</td>\n",
       "      <td>0.0</td>\n",
       "      <td>0.0</td>\n",
       "      <td>0</td>\n",
       "      <td>0</td>\n",
       "      <td>0</td>\n",
       "      <td>0</td>\n",
       "      <td>0</td>\n",
       "      <td>1</td>\n",
       "      <td>0</td>\n",
       "      <td>0</td>\n",
       "      <td>1</td>\n",
       "      <td>0</td>\n",
       "      <td>0</td>\n",
       "      <td>0</td>\n",
       "    </tr>\n",
       "    <tr>\n",
       "      <th>2</th>\n",
       "      <td>5</td>\n",
       "      <td>24.75</td>\n",
       "      <td>1</td>\n",
       "      <td>5</td>\n",
       "      <td>42220</td>\n",
       "      <td>1</td>\n",
       "      <td>20</td>\n",
       "      <td>11</td>\n",
       "      <td>1.0</td>\n",
       "      <td>0.0</td>\n",
       "      <td>0.0</td>\n",
       "      <td>0.0</td>\n",
       "      <td>0.0</td>\n",
       "      <td>0.0</td>\n",
       "      <td>0.0</td>\n",
       "      <td>0.0</td>\n",
       "      <td>0</td>\n",
       "      <td>0</td>\n",
       "      <td>0</td>\n",
       "      <td>0</td>\n",
       "      <td>0</td>\n",
       "      <td>1</td>\n",
       "      <td>0</td>\n",
       "      <td>0</td>\n",
       "      <td>1</td>\n",
       "      <td>0</td>\n",
       "      <td>0</td>\n",
       "      <td>0</td>\n",
       "    </tr>\n",
       "    <tr>\n",
       "      <th>3</th>\n",
       "      <td>5</td>\n",
       "      <td>26.50</td>\n",
       "      <td>1</td>\n",
       "      <td>5</td>\n",
       "      <td>44450</td>\n",
       "      <td>1</td>\n",
       "      <td>20</td>\n",
       "      <td>11</td>\n",
       "      <td>1.0</td>\n",
       "      <td>0.0</td>\n",
       "      <td>0.0</td>\n",
       "      <td>0.0</td>\n",
       "      <td>0.0</td>\n",
       "      <td>0.0</td>\n",
       "      <td>0.0</td>\n",
       "      <td>0.0</td>\n",
       "      <td>0</td>\n",
       "      <td>0</td>\n",
       "      <td>0</td>\n",
       "      <td>0</td>\n",
       "      <td>0</td>\n",
       "      <td>1</td>\n",
       "      <td>0</td>\n",
       "      <td>0</td>\n",
       "      <td>1</td>\n",
       "      <td>0</td>\n",
       "      <td>0</td>\n",
       "      <td>0</td>\n",
       "    </tr>\n",
       "    <tr>\n",
       "      <th>4</th>\n",
       "      <td>4</td>\n",
       "      <td>6.67</td>\n",
       "      <td>1</td>\n",
       "      <td>5</td>\n",
       "      <td>46690</td>\n",
       "      <td>1</td>\n",
       "      <td>20</td>\n",
       "      <td>11</td>\n",
       "      <td>1.0</td>\n",
       "      <td>0.0</td>\n",
       "      <td>0.0</td>\n",
       "      <td>0.0</td>\n",
       "      <td>0.0</td>\n",
       "      <td>0.0</td>\n",
       "      <td>0.0</td>\n",
       "      <td>0.0</td>\n",
       "      <td>0</td>\n",
       "      <td>0</td>\n",
       "      <td>0</td>\n",
       "      <td>0</td>\n",
       "      <td>0</td>\n",
       "      <td>1</td>\n",
       "      <td>0</td>\n",
       "      <td>0</td>\n",
       "      <td>1</td>\n",
       "      <td>0</td>\n",
       "      <td>0</td>\n",
       "      <td>0</td>\n",
       "    </tr>\n",
       "  </tbody>\n",
       "</table>\n",
       "</div>"
      ],
      "text/plain": [
       "  departure_time  duration  stops arrival_time  price  class  days_left  \\\n",
       "0              4      2.00      0            5  25612      1         20   \n",
       "1              4      2.25      0            5  25612      1         20   \n",
       "2              5     24.75      1            5  42220      1         20   \n",
       "3              5     26.50      1            5  44450      1         20   \n",
       "4              4      6.67      1            5  46690      1         20   \n",
       "\n",
       "   month  Air India  Vistara  SpiceJet  AirAsia  GO FIRST  Indigo  Trujet  \\\n",
       "0     11        1.0      0.0       0.0      0.0       0.0     0.0     0.0   \n",
       "1     11        1.0      0.0       0.0      0.0       0.0     0.0     0.0   \n",
       "2     11        1.0      0.0       0.0      0.0       0.0     0.0     0.0   \n",
       "3     11        1.0      0.0       0.0      0.0       0.0     0.0     0.0   \n",
       "4     11        1.0      0.0       0.0      0.0       0.0     0.0     0.0   \n",
       "\n",
       "   StarAir  destination_city_Bangalore  destination_city_Chennai  \\\n",
       "0      0.0                           0                         0   \n",
       "1      0.0                           0                         0   \n",
       "2      0.0                           0                         0   \n",
       "3      0.0                           0                         0   \n",
       "4      0.0                           0                         0   \n",
       "\n",
       "   destination_city_Delhi  destination_city_Hyderabad  \\\n",
       "0                       0                           0   \n",
       "1                       0                           0   \n",
       "2                       0                           0   \n",
       "3                       0                           0   \n",
       "4                       0                           0   \n",
       "\n",
       "   destination_city_Kolkata  destination_city_Mumbai  source_city_Bangalore  \\\n",
       "0                         0                        1                      0   \n",
       "1                         0                        1                      0   \n",
       "2                         0                        1                      0   \n",
       "3                         0                        1                      0   \n",
       "4                         0                        1                      0   \n",
       "\n",
       "   source_city_Chennai  source_city_Delhi  source_city_Hyderabad  \\\n",
       "0                    0                  1                      0   \n",
       "1                    0                  1                      0   \n",
       "2                    0                  1                      0   \n",
       "3                    0                  1                      0   \n",
       "4                    0                  1                      0   \n",
       "\n",
       "   source_city_Kolkata  source_city_Mumbai  \n",
       "0                    0                   0  \n",
       "1                    0                   0  \n",
       "2                    0                   0  \n",
       "3                    0                   0  \n",
       "4                    0                   0  "
      ]
     },
     "execution_count": 56,
     "metadata": {},
     "output_type": "execute_result"
    }
   ],
   "source": [
    "ohe = OneHotEncoder()\n",
    "df[list(df[\"airline\"].unique())] = ohe.fit_transform(df[[\"airline\"]]).A # making sparse metrics to metrics\n",
    "df = pd.concat([df,pd.get_dummies(df[\"destination_city\"],prefix = \"destination_city\")], axis = 1)\n",
    "df = pd.concat([df,pd.get_dummies(df[\"source_city\"],prefix = \"source_city\")], axis = 1)\n",
    "df.drop([\"airline\",\"source_city\",\"destination_city\"],axis = 1,inplace=True)\n",
    "df.head()"
   ]
  },
  {
   "cell_type": "code",
   "execution_count": 57,
   "id": "3921b67c",
   "metadata": {},
   "outputs": [
    {
     "data": {
      "text/plain": [
       "(300261, 28)"
      ]
     },
     "execution_count": 57,
     "metadata": {},
     "output_type": "execute_result"
    }
   ],
   "source": [
    "df.shape"
   ]
  },
  {
   "cell_type": "markdown",
   "id": "d16e1540",
   "metadata": {},
   "source": [
    "**Correlation Plot**\n",
    "\n",
    "Lets check the correlation values of each variable"
   ]
  },
  {
   "cell_type": "code",
   "execution_count": 58,
   "id": "3163c5db",
   "metadata": {},
   "outputs": [
    {
     "data": {
      "text/plain": [
       "price                         1.000000\n",
       "class                         0.937868\n",
       "StarAir                       0.360958\n",
       "AirAsia                       0.280739\n",
       "duration                      0.204473\n",
       "SpiceJet                      0.194101\n",
       "Vistara                       0.176106\n",
       "stops                         0.119798\n",
       "GO FIRST                      0.113961\n",
       "days_left                     0.072098\n",
       "Air India                     0.070180\n",
       "destination_city_Delhi        0.052398\n",
       "source_city_Delhi             0.043151\n",
       "destination_city_Kolkata      0.021063\n",
       "source_city_Chennai           0.018840\n",
       "destination_city_Chennai      0.018574\n",
       "source_city_Kolkata           0.016236\n",
       "destination_city_Bangalore    0.013857\n",
       "month                         0.013426\n",
       "source_city_Mumbai            0.013291\n",
       "source_city_Hyderabad         0.013124\n",
       "source_city_Bangalore         0.011552\n",
       "destination_city_Mumbai       0.010587\n",
       "Indigo                        0.010018\n",
       "Trujet                        0.009082\n",
       "destination_city_Hyderabad    0.008506\n",
       "Name: price, dtype: float64"
      ]
     },
     "execution_count": 58,
     "metadata": {},
     "output_type": "execute_result"
    }
   ],
   "source": [
    "corr = df.corr(method = 'pearson')\n",
    "corr['price'].abs().sort_values(ascending=False)"
   ]
  },
  {
   "cell_type": "code",
   "execution_count": 44,
   "id": "5de93365",
   "metadata": {},
   "outputs": [
    {
     "data": {
      "image/png": "[encoded data removed]",
      "text/plain": [
       "<Figure size 432x288 with 1 Axes>"
      ]
     },
     "metadata": {
      "needs_background": "light"
     },
     "output_type": "display_data"
    }
   ],
   "source": [
    "corr['price'].sort_values(ascending=False)[1:].plot(kind='bar');\n",
    "plt.title('Correlation of Independent variables with Price target variable');"
   ]
  },
  {
   "cell_type": "markdown",
   "id": "1d542616",
   "metadata": {},
   "source": [
    "From the above plot we can see that the class, StarAir, AirAsia and duration have good correlation with the price target variable"
   ]
  },
  {
   "cell_type": "markdown",
   "id": "4122a916",
   "metadata": {},
   "source": [
    "### Random Sampling\n",
    "\n",
    "Since the size of the data is too big we will sub sample thedataset for the ease of processing"
   ]
  },
  {
   "cell_type": "code",
   "execution_count": 59,
   "id": "df917556",
   "metadata": {},
   "outputs": [],
   "source": [
    "sub_df = df.sample(n=15000)"
   ]
  },
  {
   "cell_type": "markdown",
   "id": "7e02c867",
   "metadata": {},
   "source": [
    "### Splitting features set and target data"
   ]
  },
  {
   "cell_type": "code",
   "execution_count": 60,
   "id": "3bdb494a",
   "metadata": {},
   "outputs": [],
   "source": [
    "y = sub_df['price'].values\n",
    "x = sub_df[['departure_time', 'duration', 'stops', 'arrival_time', 'class',\n",
    "       'days_left', 'month', 'Air India', 'Vistara', 'SpiceJet', 'AirAsia',\n",
    "       'GO FIRST', 'Indigo', 'Trujet', 'StarAir', 'destination_city_Bangalore',\n",
    "       'destination_city_Chennai', 'destination_city_Delhi',\n",
    "       'destination_city_Hyderabad', 'destination_city_Kolkata',\n",
    "       'destination_city_Mumbai', 'source_city_Bangalore',\n",
    "       'source_city_Chennai', 'source_city_Delhi', 'source_city_Hyderabad',\n",
    "       'source_city_Kolkata', 'source_city_Mumbai']]\n",
    "y=y.reshape(-1,1)"
   ]
  },
  {
   "cell_type": "markdown",
   "id": "7c27d225",
   "metadata": {},
   "source": [
    "### Standardization"
   ]
  },
  {
   "cell_type": "code",
   "execution_count": 61,
   "id": "354b0bfe",
   "metadata": {},
   "outputs": [],
   "source": [
    "scaler = StandardScaler()\n",
    "scale_x = scaler.fit_transform(x)"
   ]
  },
  {
   "cell_type": "code",
   "execution_count": 62,
   "id": "6628e172",
   "metadata": {},
   "outputs": [],
   "source": [
    "scale_y = scaler.fit_transform(y)"
   ]
  },
  {
   "cell_type": "markdown",
   "id": "a4259992",
   "metadata": {},
   "source": [
    "## Dimension Reduction Through PCA"
   ]
  },
  {
   "cell_type": "markdown",
   "id": "37317c4b",
   "metadata": {},
   "source": [
    "**Grid Search For PCA**"
   ]
  },
  {
   "cell_type": "code",
   "execution_count": 64,
   "id": "1042a080",
   "metadata": {},
   "outputs": [],
   "source": [
    "from sklearn.decomposition import PCA, KernelPCA\n",
    "from sklearn.model_selection import GridSearchCV\n",
    "from sklearn.pipeline import Pipeline"
   ]
  },
  {
   "cell_type": "code",
   "execution_count": 65,
   "id": "5ab6e321",
   "metadata": {},
   "outputs": [
    {
     "name": "stdout",
     "output_type": "stream",
     "text": [
      "Best parameters: {'pca__n_components': 12}\n"
     ]
    }
   ],
   "source": [
    "pipe = Pipeline([\n",
    "    ('pca', PCA()),\n",
    "    ('linear', LinearRegression())\n",
    "])\n",
    "\n",
    "# Define the grid search parameters\n",
    "param_grid = {\n",
    "    'pca__n_components': [2, 4, 6, 8, 10,11,12]\n",
    "}\n",
    "\n",
    "# Perform grid search with cross-validation\n",
    "grid_search = GridSearchCV(pipe, param_grid=param_grid, cv=5)\n",
    "grid_search.fit(scale_x, y)\n",
    "\n",
    "# Print the best parameters and the corresponding mean cross-validated score\n",
    "print(\"Best parameters:\", grid_search.best_params_)"
   ]
  },
  {
   "cell_type": "markdown",
   "id": "60ea378e",
   "metadata": {},
   "source": [
    "**PCA**"
   ]
  },
  {
   "cell_type": "code",
   "execution_count": 67,
   "id": "33ac45d5",
   "metadata": {},
   "outputs": [],
   "source": [
    "pca = PCA()\n",
    "pca_x = pca.fit_transform(scale_x)\n",
    "\n",
    "n_components = 12  # Number of top principal components to select\n",
    "scale_pca_x = pca_x[:, :n_components]"
   ]
  },
  {
   "cell_type": "markdown",
   "id": "0e07970f",
   "metadata": {},
   "source": [
    "### Train Test Split"
   ]
  },
  {
   "cell_type": "code",
   "execution_count": 68,
   "id": "970a9673",
   "metadata": {},
   "outputs": [
    {
     "name": "stdout",
     "output_type": "stream",
     "text": [
      "xtrain shape :  (12000, 12)\n",
      "xtest shape  :  (3000, 12)\n",
      "ytrain shape :  (12000, 1)\n",
      "ytest shape  :  (3000, 1)\n"
     ]
    }
   ],
   "source": [
    "from sklearn.model_selection import train_test_split\n",
    "xtrain , xtest , ytrain, ytest =train_test_split(scale_pca_x,scale_y,\n",
    "                                                 test_size=0.2,\n",
    "                                                 random_state=42 )\n",
    "print(\"xtrain shape : \", xtrain.shape) \n",
    "print(\"xtest shape  : \", xtest.shape) \n",
    "print(\"ytrain shape : \", ytrain.shape) \n",
    "print(\"ytest shape  : \", ytest.shape) "
   ]
  },
  {
   "cell_type": "markdown",
   "id": "6a05df06",
   "metadata": {},
   "source": [
    "# MODEL IMPLEMENTATIONS\n",
    "\n",
    "Here we will implement 4 regression models to predict the Price of an airline ticket and evaluate it through different measures and visualization. After that we will adjust the hyper parameter of each model to improve each model predictions"
   ]
  },
  {
   "cell_type": "markdown",
   "id": "b7e35088",
   "metadata": {},
   "source": [
    "## MODEL 1: Linear Regression\n",
    "\n",
    "Since there are no hyper parameters to changes, we will not implement the grid search on linear regression"
   ]
  },
  {
   "cell_type": "code",
   "execution_count": null,
   "id": "d1579a6d",
   "metadata": {},
   "outputs": [],
   "source": [
    "from sklearn.metrics import mean_squared_error"
   ]
  },
  {
   "cell_type": "code",
   "execution_count": 69,
   "id": "f0bd2835",
   "metadata": {},
   "outputs": [],
   "source": [
    "from sklearn.linear_model import LinearRegression \n",
    "regressor = LinearRegression() \n",
    "model=regressor.fit(xtrain, ytrain) \n",
    "\n",
    "# predicting the test set results \n",
    "y_pred = regressor.predict(xtest) "
   ]
  },
  {
   "cell_type": "code",
   "execution_count": 70,
   "id": "ce65c7f6",
   "metadata": {},
   "outputs": [
    {
     "name": "stdout",
     "output_type": "stream",
     "text": [
      "(3000, 1)\n"
     ]
    }
   ],
   "source": [
    "print(y_pred.shape)"
   ]
  },
  {
   "cell_type": "markdown",
   "id": "f999882c",
   "metadata": {},
   "source": [
    "**Testing LR**"
   ]
  },
  {
   "cell_type": "code",
   "execution_count": 71,
   "id": "5ecac1e9",
   "metadata": {},
   "outputs": [
    {
     "name": "stdout",
     "output_type": "stream",
     "text": [
      "Apartment Data\n",
      "Model Efficiency:  0.5555156463481188\n",
      "Model Accuracy:  55.52148116401059\n",
      "The mean squared error (MSE) on test set: 0.4341\n"
     ]
    }
   ],
   "source": [
    "model_efficiency= model.score(xtrain,ytrain)\n",
    "print(\"Apartment Data\")\n",
    "print(\"Model Efficiency: \", model_efficiency)\n",
    "print(\"Model Accuracy: \",model.score(xtest, ytest) * 100)\n",
    "mse = mean_squared_error(ytest, y_pred)\n",
    "print(\"The mean squared error (MSE) on test set: {:.4f}\".format(mse))"
   ]
  },
  {
   "cell_type": "code",
   "execution_count": null,
   "id": "328cd212",
   "metadata": {},
   "outputs": [],
   "source": [
    "modelresult = pd.DataFrame({'Actual': ytest.flatten(), 'Predicted': y_pred.flatten().round(2)})\n",
    "print(modelresult)"
   ]
  },
  {
   "cell_type": "markdown",
   "id": "2f043b04",
   "metadata": {},
   "source": [
    "**Line plot of top 200 Data rows**"
   ]
  },
  {
   "cell_type": "code",
   "execution_count": null,
   "id": "3aac710e",
   "metadata": {},
   "outputs": [],
   "source": [
    "plt.figure(figsize=(16,5))\n",
    "ax = sns.lineplot(data=modelresult.head(200))"
   ]
  },
  {
   "cell_type": "markdown",
   "id": "e3cdb618",
   "metadata": {},
   "source": [
    "**Bar plot of Top 50 Data rows**"
   ]
  },
  {
   "cell_type": "code",
   "execution_count": null,
   "id": "3a8855ae",
   "metadata": {},
   "outputs": [],
   "source": [
    "modelresult.head(50).plot(kind='bar',figsize=(16,5))\n",
    "plt.grid(which='major', linestyle='-', linewidth='0.5', color='green')\n",
    "plt.grid(which='minor', linestyle=':', linewidth='0.5', color='black')\n",
    "plt.show()"
   ]
  },
  {
   "cell_type": "markdown",
   "id": "d62811c9",
   "metadata": {},
   "source": [
    "the training accuracy of linear regression is 54 with testing accuracy is 55 and mean square error is 0.457. this indicate that linear model doesnot work well on our dataset"
   ]
  },
  {
   "cell_type": "markdown",
   "id": "69f18ff3",
   "metadata": {
    "id": "bVN7d-rdfK8Q"
   },
   "source": [
    "## MODEL 2: Support Vector Regressor"
   ]
  },
  {
   "cell_type": "code",
   "execution_count": 74,
   "id": "e812cc69",
   "metadata": {},
   "outputs": [],
   "source": [
    "from sklearn.svm import SVR\n",
    "from sklearn.metrics import mean_squared_error\n",
    "\n",
    "model_svr = SVR(kernel = 'linear',gamma = 0.05).fit(xtrain, ytrain) \n",
    "\n",
    "ypred_svr = model_svr.predict(xtest) "
   ]
  },
  {
   "cell_type": "markdown",
   "id": "6bd12829",
   "metadata": {
    "id": "JgYifG_cfRpW"
   },
   "source": [
    "### Testing SVR"
   ]
  },
  {
   "cell_type": "code",
   "execution_count": 77,
   "id": "703a46db",
   "metadata": {},
   "outputs": [
    {
     "name": "stdout",
     "output_type": "stream",
     "text": [
      "Model Efficiency:  0.5344229681944674\n"
     ]
    }
   ],
   "source": [
    "model_efficiency= model_svr.score(xtrain,ytrain)\n",
    "print('Model Efficiency: ',model_efficiency)"
   ]
  },
  {
   "cell_type": "code",
   "execution_count": 78,
   "id": "afaec3b4",
   "metadata": {},
   "outputs": [
    {
     "name": "stdout",
     "output_type": "stream",
     "text": [
      "Accuracy:  53.140684327700825\n"
     ]
    }
   ],
   "source": [
    "print(\"Accuracy: \",model_svr.score(xtest, ytest) * 100)"
   ]
  },
  {
   "cell_type": "code",
   "execution_count": 79,
   "id": "0f25c99d",
   "metadata": {},
   "outputs": [
    {
     "name": "stdout",
     "output_type": "stream",
     "text": [
      "The mean squared error (MSE) on test set: 0.4573\n"
     ]
    }
   ],
   "source": [
    "mse = mean_squared_error(ytest, ypred_svr)\n",
    "print(\"The mean squared error (MSE) on test set: {:.4f}\".format(mse))"
   ]
  },
  {
   "cell_type": "code",
   "execution_count": null,
   "id": "edc080eb",
   "metadata": {},
   "outputs": [],
   "source": [
    "modelresult = pd.DataFrame({'Actual': ytest.flatten(), 'Predicted': ypred_svr.flatten().round(2)})"
   ]
  },
  {
   "cell_type": "markdown",
   "id": "42bc370d",
   "metadata": {},
   "source": [
    "**Line plot of top 200 Data rows**"
   ]
  },
  {
   "cell_type": "code",
   "execution_count": null,
   "id": "49daddfc",
   "metadata": {},
   "outputs": [],
   "source": [
    "plt.figure(figsize=(16,5))\n",
    "ax = sns.lineplot(data=modelresult.head(200))"
   ]
  },
  {
   "cell_type": "markdown",
   "id": "d7ca2ddf",
   "metadata": {},
   "source": [
    "**Bar plot of Top 50 Data rows**"
   ]
  },
  {
   "cell_type": "code",
   "execution_count": null,
   "id": "795ff66c",
   "metadata": {},
   "outputs": [],
   "source": [
    "modelresult.head(50).plot(kind='bar',figsize=(16,5))\n",
    "plt.grid(which='major', linestyle='-', linewidth='0.5', color='green')\n",
    "plt.grid(which='minor', linestyle=':', linewidth='0.5', color='black')\n",
    "plt.show()"
   ]
  },
  {
   "cell_type": "markdown",
   "id": "fb58f06c",
   "metadata": {},
   "source": [
    "From the above Evaluation we can see that SVR model testing accuracy is 52 with 0.489 mean square errors"
   ]
  },
  {
   "cell_type": "markdown",
   "id": "9418098d",
   "metadata": {
    "id": "yNIUDzmSfYqR"
   },
   "source": [
    "### Adjusting Hyperparameters\n",
    "\n",
    "Here we change the kernel svr rbf and change the gamma value to scale "
   ]
  },
  {
   "cell_type": "code",
   "execution_count": 80,
   "id": "cbb6f851",
   "metadata": {
    "id": "ykqIPe26GVcP"
   },
   "outputs": [],
   "source": [
    "gs_svr = SVR(kernel = 'rbf', gamma = 'scale')\n",
    "gs_svr.fit(xtrain, ytrain)\n",
    "ypred_gs_svr = gs_svr.predict(xtest)"
   ]
  },
  {
   "cell_type": "code",
   "execution_count": 81,
   "id": "db7bef09",
   "metadata": {},
   "outputs": [
    {
     "name": "stdout",
     "output_type": "stream",
     "text": [
      "Model Efficiency:  0.9387148832641916\n",
      "Accuracy:  93.58479337447257\n",
      "The mean squared error (MSE) on test set: 0.0626\n"
     ]
    }
   ],
   "source": [
    "\n",
    "model_efficiency= gs_svr.score(xtrain,ytrain)\n",
    "print('Model Efficiency: ',model_efficiency)\n",
    "\n",
    "print(\"Accuracy: \",gs_svr.score(xtest, ytest) * 100)\n",
    "\n",
    "mse = mean_squared_error(ytest, ypred_gs_svr)\n",
    "print(\"The mean squared error (MSE) on test set: {:.4f}\".format(mse))"
   ]
  },
  {
   "cell_type": "markdown",
   "id": "c2eb2185",
   "metadata": {},
   "source": [
    "Here we can see the our model accuracy is improved to 93.4% and mse reduce to 0.067. the high accuracy with rbf kernal indicate that our data is not linearly seperable"
   ]
  },
  {
   "cell_type": "code",
   "execution_count": null,
   "id": "4414350c",
   "metadata": {},
   "outputs": [],
   "source": [
    "aa  = pd.DataFrame({'Actual': ytest.flatten(), 'Predicted': ypred_svr.flatten().round(2), 'adj_Predicted': ypred_gs_svr.flatten().round(2)})"
   ]
  },
  {
   "cell_type": "code",
   "execution_count": null,
   "id": "1eb73d2a",
   "metadata": {},
   "outputs": [],
   "source": [
    "aa.head(30).plot(kind='line' )"
   ]
  },
  {
   "cell_type": "markdown",
   "id": "857f4adb",
   "metadata": {},
   "source": [
    "From the above plot we can see that the adjusted model line are more closer to the actual line"
   ]
  },
  {
   "cell_type": "markdown",
   "id": "0eb5e43d",
   "metadata": {
    "id": "TjnNl0cdfyPh"
   },
   "source": [
    "## MODEL 3: Gradient Boosting Regressor"
   ]
  },
  {
   "cell_type": "code",
   "execution_count": 84,
   "id": "a562d72d",
   "metadata": {
    "id": "BawMdARzG-lR"
   },
   "outputs": [],
   "source": [
    "from sklearn.ensemble import GradientBoostingRegressor"
   ]
  },
  {
   "cell_type": "code",
   "execution_count": 85,
   "id": "9e6b3b9f",
   "metadata": {},
   "outputs": [],
   "source": [
    "gbr_params = {'n_estimators': 1000,\n",
    "          'max_depth': 3,\n",
    "          'min_samples_split': 5,\n",
    "          'learning_rate': 0.01,\n",
    "          'loss': 'ls'}\n",
    "gbr = GradientBoostingRegressor(**gbr_params)\n",
    "gbr.fit(xtrain, ytrain)\n",
    "\n",
    "ypred = gbr.predict(xtest)"
   ]
  },
  {
   "cell_type": "markdown",
   "id": "fca5dbd5",
   "metadata": {
    "id": "QnBtB180f4Ei"
   },
   "source": [
    "## Testing GBR"
   ]
  },
  {
   "cell_type": "code",
   "execution_count": null,
   "id": "c8bc4f82",
   "metadata": {},
   "outputs": [],
   "source": [
    "model_efficiency= gbr.score(xtrain,ytrain)\n",
    "print('Model Efficiency: ',model_efficiency)"
   ]
  },
  {
   "cell_type": "code",
   "execution_count": 88,
   "id": "246aee0d",
   "metadata": {},
   "outputs": [
    {
     "name": "stdout",
     "output_type": "stream",
     "text": [
      "Accuracy:  86.22001586025041\n"
     ]
    }
   ],
   "source": [
    "# print metric to get performance\n",
    "print(\"Accuracy: \",gbr.score(xtest, ytest) * 100)"
   ]
  },
  {
   "cell_type": "code",
   "execution_count": 89,
   "id": "598eef97",
   "metadata": {},
   "outputs": [
    {
     "name": "stdout",
     "output_type": "stream",
     "text": [
      "The mean squared error (MSE) on test set: 0.1345\n"
     ]
    }
   ],
   "source": [
    "mse = mean_squared_error(ytest, ypred)\n",
    "print(\"The mean squared error (MSE) on test set: {:.4f}\".format(mse))"
   ]
  },
  {
   "cell_type": "code",
   "execution_count": null,
   "id": "bee54bf6",
   "metadata": {},
   "outputs": [],
   "source": [
    "modelresult = pd.DataFrame({'Actual': ytest.flatten(), 'Predicted': ypred.flatten().round(2)})"
   ]
  },
  {
   "cell_type": "markdown",
   "id": "ae87938b",
   "metadata": {},
   "source": [
    "**Line plot of top 200 Data rows**"
   ]
  },
  {
   "cell_type": "code",
   "execution_count": null,
   "id": "9a712ce5",
   "metadata": {},
   "outputs": [],
   "source": [
    "plt.figure(figsize=(16,5))\n",
    "ax = sns.lineplot(data=modelresult.head(200))"
   ]
  },
  {
   "cell_type": "markdown",
   "id": "00e5c5b0",
   "metadata": {},
   "source": [
    "**Bar plot of Top 50 Data rows**"
   ]
  },
  {
   "cell_type": "code",
   "execution_count": null,
   "id": "f40bf083",
   "metadata": {},
   "outputs": [],
   "source": [
    "modelresult.head(50).plot(kind='bar',figsize=(16,5))\n",
    "plt.grid(which='major', linestyle='-', linewidth='0.5', color='green')\n",
    "plt.grid(which='minor', linestyle=':', linewidth='0.5', color='black')\n",
    "plt.show()"
   ]
  },
  {
   "cell_type": "markdown",
   "id": "5d71e1ba",
   "metadata": {},
   "source": [
    "From the above Evaluation we can see that GBR model accuracy is 87.1 with 0.131 mean square error"
   ]
  },
  {
   "cell_type": "markdown",
   "id": "be8c129f",
   "metadata": {
    "id": "MlCcyqPzgF1j"
   },
   "source": [
    "### Adjusting Hyperparameters"
   ]
  },
  {
   "cell_type": "code",
   "execution_count": null,
   "id": "595437ba",
   "metadata": {
    "id": "3aXs3NVWgN__"
   },
   "outputs": [],
   "source": [
    "params = {\n",
    "    \"n_estimators\": 1500,\n",
    "    \"max_depth\": 4,\n",
    "    \"min_samples_split\": 5,\n",
    "    \"learning_rate\": 0.01,\n",
    "    \"loss\": \"squared_error\",\n",
    "}\n",
    "\n",
    "gbr_2 = GradientBoostingRegressor(**params)\n",
    "gbr_2.fit(xtrain, ytrain)\n",
    "\n",
    "ypred_gbr_2 = gbr_2.predict(xtest)"
   ]
  },
  {
   "cell_type": "code",
   "execution_count": null,
   "id": "1c861cd0",
   "metadata": {},
   "outputs": [],
   "source": [
    "model_efficiency= gbr_2.score(xtrain,ytrain)\n",
    "print('Model Efficiency: ',model_efficiency)\n",
    "\n",
    "# print metric to get performance\n",
    "print(\"Accuracy: \",gbr_2.score(xtest, ytest) * 100)"
   ]
  },
  {
   "cell_type": "code",
   "execution_count": null,
   "id": "f27baf0a",
   "metadata": {},
   "outputs": [],
   "source": [
    "mse = mean_squared_error(ytest, ypred_gbr_2)\n",
    "print(\"The mean squared error (MSE) on test set: {:.4f}\".format(mse))"
   ]
  },
  {
   "cell_type": "markdown",
   "id": "9a576b91",
   "metadata": {},
   "source": [
    "Here we can see the our model accuracy is improved to 91 and mse reduce to 0.0827\n"
   ]
  },
  {
   "cell_type": "code",
   "execution_count": null,
   "id": "36cdd8c6",
   "metadata": {},
   "outputs": [],
   "source": [
    "aa  = pd.DataFrame({'Actual': ytest.flatten(), 'Predicted': ypred.flatten().round(2), 'adj_Predicted': ypred_gbr_2.flatten().round(2)})\n",
    "\n",
    "aa.head(30).plot(kind='line' )\n"
   ]
  },
  {
   "cell_type": "markdown",
   "id": "3a0d01f3",
   "metadata": {},
   "source": [
    "From the above plot we can see that the adjusted model line are more closer to the actual line. and it do follow the pattern of actual data."
   ]
  },
  {
   "cell_type": "markdown",
   "id": "f5ba5b46",
   "metadata": {
    "id": "pcTvalpJgj24"
   },
   "source": [
    "## MODEL 4: Decision Tree Regressor"
   ]
  },
  {
   "cell_type": "code",
   "execution_count": null,
   "id": "dee5e8f9",
   "metadata": {
    "id": "kyjZCxBSI60N"
   },
   "outputs": [],
   "source": [
    "from sklearn.tree import DecisionTreeRegressor \n",
    "  \n",
    "# create a regressor object\n",
    "model_dt = DecisionTreeRegressor(random_state = 0) \n",
    "  \n",
    "# fit the regressor with X and Y data\n",
    "model_dt.fit(xtrain, ytrain)\n",
    "\n",
    "ypred_dt = model_dt.predict(xtest)"
   ]
  },
  {
   "cell_type": "markdown",
   "id": "78d97752",
   "metadata": {
    "id": "aVOqkQSUgnfx"
   },
   "source": [
    "### Testing DTR"
   ]
  },
  {
   "cell_type": "code",
   "execution_count": null,
   "id": "dacecb76",
   "metadata": {},
   "outputs": [],
   "source": [
    "model_efficiency= model_dt.score(xtrain,ytrain)\n",
    "print('Model Efficiency: ',model_efficiency)\n",
    "\n",
    "# print metric to get performance\n",
    "print(\"Accuracy: \",model_dt.score(xtest, ytest) * 100)\n",
    "\n",
    "mse = mean_squared_error(ytest, ypred_dt)\n",
    "print(\"The mean squared error (MSE) on test set: {:.4f}\".format(mse))"
   ]
  },
  {
   "cell_type": "code",
   "execution_count": null,
   "id": "8d8caae5",
   "metadata": {},
   "outputs": [],
   "source": [
    "modelresult = pd.DataFrame({'Actual': ytest.flatten(), 'Predicted': ypred_dt.flatten().round(2)})"
   ]
  },
  {
   "cell_type": "markdown",
   "id": "1cf0aa85",
   "metadata": {},
   "source": [
    "**Line plot of top 200 Data rows**"
   ]
  },
  {
   "cell_type": "code",
   "execution_count": null,
   "id": "77980a50",
   "metadata": {},
   "outputs": [],
   "source": [
    "plt.figure(figsize=(16,5))\n",
    "ax = sns.lineplot(data=modelresult.head(200))"
   ]
  },
  {
   "cell_type": "markdown",
   "id": "79a11dbf",
   "metadata": {},
   "source": [
    "**Bar plot of Top 50 Data rows**"
   ]
  },
  {
   "cell_type": "code",
   "execution_count": null,
   "id": "ff00df78",
   "metadata": {},
   "outputs": [],
   "source": [
    "modelresult.head(50).plot(kind='bar',figsize=(16,5))\n",
    "plt.grid(which='major', linestyle='-', linewidth='0.5', color='green')\n",
    "plt.grid(which='minor', linestyle=':', linewidth='0.5', color='black')\n",
    "plt.show()"
   ]
  },
  {
   "cell_type": "markdown",
   "id": "c159e937",
   "metadata": {},
   "source": [
    "From the above Evaluation we can see that Decision Tree model doesnot preform well, the model training accuracy is 99.9 percent and testing accuracy is 89.25%  with 0.114 mean square error"
   ]
  },
  {
   "cell_type": "markdown",
   "id": "32154217",
   "metadata": {
    "id": "_0pieY_WgrFM"
   },
   "source": [
    "### Adjusting Hyperparameters"
   ]
  },
  {
   "cell_type": "code",
   "execution_count": null,
   "id": "a5e093b6",
   "metadata": {
    "id": "MWsaJtumJFob"
   },
   "outputs": [],
   "source": [
    "param = {\n",
    "    'criterion': ['squared_error', 'poisson'],\n",
    "    'splitter': ['best','random'],\n",
    "    'max_depth': [3,4,5,6,7,8,10,15,20],\n",
    "    'ccp_alpha': [0,0.1,0.01],\n",
    "    'random_state' : [0,2,4,6]\n",
    "}\n",
    "\n",
    "gs_dt = GridSearchCV(DecisionTreeRegressor(), param, cv=5)\n",
    "gs_dt.fit(xtrain, ytrain)"
   ]
  },
  {
   "cell_type": "code",
   "execution_count": null,
   "id": "7cc973e0",
   "metadata": {},
   "outputs": [],
   "source": [
    "print(gs_dt.best_params_) \n",
    "print(gs_dt.best_estimator_)"
   ]
  },
  {
   "cell_type": "markdown",
   "id": "44b3be75",
   "metadata": {},
   "source": [
    "The above parameters values are the best hyperparameters found by the grid search"
   ]
  },
  {
   "cell_type": "code",
   "execution_count": null,
   "id": "1726d00c",
   "metadata": {},
   "outputs": [],
   "source": [
    "ypred_gs_dt = gs_dt.predict(xtest)"
   ]
  },
  {
   "cell_type": "code",
   "execution_count": null,
   "id": "df279c1a",
   "metadata": {},
   "outputs": [],
   "source": [
    "model_efficiency= gs_dt.score(xtrain,ytrain)\n",
    "print('Model Efficiency: ',model_efficiency)\n",
    "\n",
    "# print metric to get performance\n",
    "print(\"Accuracy: \",gs_dt.score(xtest, ytest) * 100)\n",
    "\n",
    "mse = mean_squared_error(ytest, ypred_gs_dt)\n",
    "print(\"The mean squared error (MSE) on test set: {:.4f}\".format(mse))"
   ]
  },
  {
   "cell_type": "markdown",
   "id": "93c7b514",
   "metadata": {},
   "source": [
    "Here we can see the our model accuracy is improved to 89.33 and mse reduce to 0.1096\n"
   ]
  },
  {
   "cell_type": "code",
   "execution_count": null,
   "id": "e628700f",
   "metadata": {},
   "outputs": [],
   "source": [
    "aa  = pd.DataFrame({'Actual': ytest.flatten(), 'Predicted': ypred_dt.flatten().round(2), 'adj_Predicted': ypred_gs_dt.flatten().round(2)})\n",
    "\n",
    "aa.head(80).plot(kind='line' )\n"
   ]
  },
  {
   "cell_type": "markdown",
   "id": "3e53de97",
   "metadata": {},
   "source": [
    "From the above plot we can see that the adjusted model line is slightly more closer to the actual line."
   ]
  },
  {
   "cell_type": "markdown",
   "id": "a982edcc",
   "metadata": {},
   "source": [
    "### Analysis:\n",
    "Here we apply 4 different ML models to predict the price of airline ticket. all of the 4 models are applied and evaluated through its model efficiency, model accuracy and mean square error. All of the 4 model's performance is improved by adjusting the hyperparameters. best set of hyperparameters are found through two ways. First, manually change the hyperparameters values to find the best set. second, gridsearch technique is use to find the best set of hyperparameters. \n",
    "\n",
    "All of the four model perfromance is improved by adjusting the hyperparameter. amoung all of the model the Suport Vector Regressor with RBF as its kernel function performs the best."
   ]
  }
 ],
 "metadata": {
  "kernelspec": {
   "display_name": "Python 3 (ipykernel)",
   "language": "python",
   "name": "python3"
  },
  "language_info": {
   "codemirror_mode": {
    "name": "ipython",
    "version": 3
   },
   "file_extension": ".py",
   "mimetype": "text/x-python",
   "name": "python",
   "nbconvert_exporter": "python",
   "pygments_lexer": "ipython3",
   "version": "3.9.12"
  }
 },
 "nbformat": 4,
 "nbformat_minor": 5
}
